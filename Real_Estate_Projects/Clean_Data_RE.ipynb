{
 "cells": [
  {
   "cell_type": "markdown",
   "metadata": {},
   "source": [
    "# Cleaning Data"
   ]
  },
  {
   "cell_type": "code",
   "execution_count": 425,
   "metadata": {},
   "outputs": [],
   "source": [
    "# Import libraries + csv file with appartments' data"
   ]
  },
  {
   "cell_type": "code",
   "execution_count": 272,
   "metadata": {},
   "outputs": [],
   "source": [
    "import pandas as pd\n",
    "import numpy as np\n",
    "import matplotlib.pyplot as plt\n",
    "import seaborn as sns"
   ]
  },
  {
   "cell_type": "code",
   "execution_count": 273,
   "metadata": {},
   "outputs": [],
   "source": [
    "df = pd.read_csv('apartments_csv_2.csv')"
   ]
  },
  {
   "cell_type": "code",
   "execution_count": 274,
   "metadata": {},
   "outputs": [
    {
     "data": {
      "text/html": [
       "<div>\n",
       "<style scoped>\n",
       "    .dataframe tbody tr th:only-of-type {\n",
       "        vertical-align: middle;\n",
       "    }\n",
       "\n",
       "    .dataframe tbody tr th {\n",
       "        vertical-align: top;\n",
       "    }\n",
       "\n",
       "    .dataframe thead th {\n",
       "        text-align: right;\n",
       "    }\n",
       "</style>\n",
       "<table border=\"1\" class=\"dataframe\">\n",
       "  <thead>\n",
       "    <tr style=\"text-align: right;\">\n",
       "      <th></th>\n",
       "      <th>Unnamed: 0</th>\n",
       "      <th>price_€</th>\n",
       "      <th>building_fees_month</th>\n",
       "      <th>n_rooms</th>\n",
       "      <th>surface_sqm</th>\n",
       "      <th>n_bathrooms</th>\n",
       "      <th>floor</th>\n",
       "      <th>floor_2</th>\n",
       "      <th>tot_floors</th>\n",
       "      <th>parking</th>\n",
       "      <th>year_construction</th>\n",
       "      <th>status</th>\n",
       "      <th>heating</th>\n",
       "      <th>energy_efficiency</th>\n",
       "      <th>city</th>\n",
       "      <th>neighborhood</th>\n",
       "      <th>adress</th>\n",
       "      <th>latitude</th>\n",
       "      <th>longitude</th>\n",
       "    </tr>\n",
       "  </thead>\n",
       "  <tbody>\n",
       "    <tr>\n",
       "      <th>0</th>\n",
       "      <td>0</td>\n",
       "      <td>630.000</td>\n",
       "      <td>67.0</td>\n",
       "      <td>3.0</td>\n",
       "      <td>105</td>\n",
       "      <td>2</td>\n",
       "      <td>2</td>\n",
       "      <td>2.0</td>\n",
       "      <td>3.0</td>\n",
       "      <td>0</td>\n",
       "      <td>1950.0</td>\n",
       "      <td>Buono</td>\n",
       "      <td>Autonomo</td>\n",
       "      <td>G</td>\n",
       "      <td>Milano</td>\n",
       "      <td>Isola</td>\n",
       "      <td>Via Carmagnola, 3</td>\n",
       "      <td>45.4863</td>\n",
       "      <td>9.1866000000000003</td>\n",
       "    </tr>\n",
       "    <tr>\n",
       "      <th>1</th>\n",
       "      <td>1</td>\n",
       "      <td>320.000</td>\n",
       "      <td>133.0</td>\n",
       "      <td>2.0</td>\n",
       "      <td>57</td>\n",
       "      <td>1</td>\n",
       "      <td>1</td>\n",
       "      <td>1.0</td>\n",
       "      <td>7.0</td>\n",
       "      <td>0</td>\n",
       "      <td>1950.0</td>\n",
       "      <td>Ottimo</td>\n",
       "      <td>Centralizzato</td>\n",
       "      <td>G</td>\n",
       "      <td>Milano</td>\n",
       "      <td>Città Studi</td>\n",
       "      <td>Via Giovanni Pacini, 67</td>\n",
       "      <td>45.484299999999998</td>\n",
       "      <td>9.2347000000000001</td>\n",
       "    </tr>\n",
       "    <tr>\n",
       "      <th>2</th>\n",
       "      <td>2</td>\n",
       "      <td>330.000</td>\n",
       "      <td>150.0</td>\n",
       "      <td>3.0</td>\n",
       "      <td>60</td>\n",
       "      <td>1</td>\n",
       "      <td>2</td>\n",
       "      <td>2.0</td>\n",
       "      <td>3.0</td>\n",
       "      <td>0</td>\n",
       "      <td>1970.0</td>\n",
       "      <td>Nuovo</td>\n",
       "      <td>Centralizzato</td>\n",
       "      <td>D</td>\n",
       "      <td>Milano</td>\n",
       "      <td>San Siro</td>\n",
       "      <td>Via Federico Tesio</td>\n",
       "      <td>45.479599999999998</td>\n",
       "      <td>9.1173999999999999</td>\n",
       "    </tr>\n",
       "    <tr>\n",
       "      <th>3</th>\n",
       "      <td>3</td>\n",
       "      <td>840.000</td>\n",
       "      <td>285.0</td>\n",
       "      <td>4.0</td>\n",
       "      <td>135</td>\n",
       "      <td>2</td>\n",
       "      <td>2</td>\n",
       "      <td>2.0</td>\n",
       "      <td>8.0</td>\n",
       "      <td>1</td>\n",
       "      <td>1970.0</td>\n",
       "      <td>Ristrutturare</td>\n",
       "      <td>Centralizzato</td>\n",
       "      <td>G</td>\n",
       "      <td>Milano</td>\n",
       "      <td>De Angeli</td>\n",
       "      <td>Piazza Ernesto De Angeli</td>\n",
       "      <td>45.4666</td>\n",
       "      <td>9.1494999999999997</td>\n",
       "    </tr>\n",
       "    <tr>\n",
       "      <th>4</th>\n",
       "      <td>4</td>\n",
       "      <td>370.000</td>\n",
       "      <td>200.0</td>\n",
       "      <td>4.0</td>\n",
       "      <td>95</td>\n",
       "      <td>1</td>\n",
       "      <td>2</td>\n",
       "      <td>2.0</td>\n",
       "      <td>7.0</td>\n",
       "      <td>0</td>\n",
       "      <td>1965.0</td>\n",
       "      <td>Buono</td>\n",
       "      <td>Centralizzato</td>\n",
       "      <td>G</td>\n",
       "      <td>Milano</td>\n",
       "      <td>Primaticcio</td>\n",
       "      <td>Via delle Genziane, 7</td>\n",
       "      <td>45.452800000000003</td>\n",
       "      <td>9.1259800000000002</td>\n",
       "    </tr>\n",
       "    <tr>\n",
       "      <th>...</th>\n",
       "      <td>...</td>\n",
       "      <td>...</td>\n",
       "      <td>...</td>\n",
       "      <td>...</td>\n",
       "      <td>...</td>\n",
       "      <td>...</td>\n",
       "      <td>...</td>\n",
       "      <td>...</td>\n",
       "      <td>...</td>\n",
       "      <td>...</td>\n",
       "      <td>...</td>\n",
       "      <td>...</td>\n",
       "      <td>...</td>\n",
       "      <td>...</td>\n",
       "      <td>...</td>\n",
       "      <td>...</td>\n",
       "      <td>...</td>\n",
       "      <td>...</td>\n",
       "      <td>...</td>\n",
       "    </tr>\n",
       "    <tr>\n",
       "      <th>14675</th>\n",
       "      <td>14675</td>\n",
       "      <td>310.000</td>\n",
       "      <td>2.0</td>\n",
       "      <td>4.0</td>\n",
       "      <td>105</td>\n",
       "      <td>1</td>\n",
       "      <td>NaN</td>\n",
       "      <td>NaN</td>\n",
       "      <td>NaN</td>\n",
       "      <td>0</td>\n",
       "      <td>NaN</td>\n",
       "      <td>Ottimo</td>\n",
       "      <td>Centralizzato</td>\n",
       "      <td>F</td>\n",
       "      <td>San Siro</td>\n",
       "      <td>NaN</td>\n",
       "      <td>NaN</td>\n",
       "      <td>45.473100000000002</td>\n",
       "      <td>9.1189699999999991</td>\n",
       "    </tr>\n",
       "    <tr>\n",
       "      <th>14676</th>\n",
       "      <td>14676</td>\n",
       "      <td>1.850.000</td>\n",
       "      <td>900.0</td>\n",
       "      <td>4.0</td>\n",
       "      <td>404</td>\n",
       "      <td>3+</td>\n",
       "      <td>A</td>\n",
       "      <td>NaN</td>\n",
       "      <td>7.0</td>\n",
       "      <td>2</td>\n",
       "      <td>1990.0</td>\n",
       "      <td>Ottimo</td>\n",
       "      <td>Centralizzato</td>\n",
       "      <td>G</td>\n",
       "      <td>San Siro</td>\n",
       "      <td>NaN</td>\n",
       "      <td>NaN</td>\n",
       "      <td>45.480800000000002</td>\n",
       "      <td>9.1242000000000001</td>\n",
       "    </tr>\n",
       "    <tr>\n",
       "      <th>14677</th>\n",
       "      <td>14677</td>\n",
       "      <td>295.000</td>\n",
       "      <td>150.0</td>\n",
       "      <td>2.0</td>\n",
       "      <td>40</td>\n",
       "      <td>1</td>\n",
       "      <td>5</td>\n",
       "      <td>5.0</td>\n",
       "      <td>5.0</td>\n",
       "      <td>0</td>\n",
       "      <td>2005.0</td>\n",
       "      <td>Ottimo</td>\n",
       "      <td>Centralizzato</td>\n",
       "      <td>F</td>\n",
       "      <td>Milano</td>\n",
       "      <td>Piave - Tricolore</td>\n",
       "      <td>Via Nino Bixio, 15</td>\n",
       "      <td>45.472200000000001</td>\n",
       "      <td>9.2089999999999996</td>\n",
       "    </tr>\n",
       "    <tr>\n",
       "      <th>14678</th>\n",
       "      <td>14678</td>\n",
       "      <td>510.000</td>\n",
       "      <td>NaN</td>\n",
       "      <td>2.0</td>\n",
       "      <td>80</td>\n",
       "      <td>1</td>\n",
       "      <td>3</td>\n",
       "      <td>3.0</td>\n",
       "      <td>5.0</td>\n",
       "      <td>0</td>\n",
       "      <td>1960.0</td>\n",
       "      <td>Buono</td>\n",
       "      <td>Centralizzato</td>\n",
       "      <td>F</td>\n",
       "      <td>Milano</td>\n",
       "      <td>Pagano</td>\n",
       "      <td>via Grancini, 6</td>\n",
       "      <td>45.471200000000003</td>\n",
       "      <td>9.1608000000000001</td>\n",
       "    </tr>\n",
       "    <tr>\n",
       "      <th>14679</th>\n",
       "      <td>14679</td>\n",
       "      <td>850.000</td>\n",
       "      <td>280.0</td>\n",
       "      <td>4.0</td>\n",
       "      <td>120</td>\n",
       "      <td>2</td>\n",
       "      <td>4</td>\n",
       "      <td>4.0</td>\n",
       "      <td>8.0</td>\n",
       "      <td>0</td>\n",
       "      <td>1960.0</td>\n",
       "      <td>Buono</td>\n",
       "      <td>Centralizzato</td>\n",
       "      <td>G</td>\n",
       "      <td>Milano</td>\n",
       "      <td>Dezza</td>\n",
       "      <td>via boni, 24</td>\n",
       "      <td>45.459600000000002</td>\n",
       "      <td>9.1567000000000007</td>\n",
       "    </tr>\n",
       "  </tbody>\n",
       "</table>\n",
       "<p>14680 rows × 19 columns</p>\n",
       "</div>"
      ],
      "text/plain": [
       "       Unnamed: 0     price_€  building_fees_month  n_rooms surface_sqm  \\\n",
       "0               0     630.000                 67.0      3.0         105   \n",
       "1               1     320.000                133.0      2.0          57   \n",
       "2               2     330.000                150.0      3.0          60   \n",
       "3               3     840.000                285.0      4.0         135   \n",
       "4               4     370.000                200.0      4.0          95   \n",
       "...           ...         ...                  ...      ...         ...   \n",
       "14675       14675     310.000                  2.0      4.0         105   \n",
       "14676       14676   1.850.000                900.0      4.0         404   \n",
       "14677       14677     295.000                150.0      2.0          40   \n",
       "14678       14678     510.000                  NaN      2.0          80   \n",
       "14679       14679     850.000                280.0      4.0         120   \n",
       "\n",
       "      n_bathrooms floor  floor_2  tot_floors  parking  year_construction  \\\n",
       "0               2     2      2.0         3.0        0             1950.0   \n",
       "1               1     1      1.0         7.0        0             1950.0   \n",
       "2               1     2      2.0         3.0        0             1970.0   \n",
       "3               2     2      2.0         8.0        1             1970.0   \n",
       "4               1     2      2.0         7.0        0             1965.0   \n",
       "...           ...   ...      ...         ...      ...                ...   \n",
       "14675           1   NaN      NaN         NaN        0                NaN   \n",
       "14676          3+     A      NaN         7.0        2             1990.0   \n",
       "14677           1     5      5.0         5.0        0             2005.0   \n",
       "14678           1     3      3.0         5.0        0             1960.0   \n",
       "14679           2     4      4.0         8.0        0             1960.0   \n",
       "\n",
       "              status        heating energy_efficiency      city  \\\n",
       "0              Buono       Autonomo                 G    Milano   \n",
       "1             Ottimo  Centralizzato                 G    Milano   \n",
       "2              Nuovo  Centralizzato                 D    Milano   \n",
       "3      Ristrutturare  Centralizzato                 G    Milano   \n",
       "4              Buono  Centralizzato                 G    Milano   \n",
       "...              ...            ...               ...       ...   \n",
       "14675         Ottimo  Centralizzato                 F  San Siro   \n",
       "14676         Ottimo  Centralizzato                 G  San Siro   \n",
       "14677         Ottimo  Centralizzato                 F    Milano   \n",
       "14678          Buono  Centralizzato                 F    Milano   \n",
       "14679          Buono  Centralizzato                 G    Milano   \n",
       "\n",
       "            neighborhood                    adress            latitude  \\\n",
       "0                  Isola         Via Carmagnola, 3             45.4863   \n",
       "1            Città Studi   Via Giovanni Pacini, 67  45.484299999999998   \n",
       "2               San Siro        Via Federico Tesio  45.479599999999998   \n",
       "3              De Angeli  Piazza Ernesto De Angeli             45.4666   \n",
       "4            Primaticcio     Via delle Genziane, 7  45.452800000000003   \n",
       "...                  ...                       ...                 ...   \n",
       "14675                NaN                       NaN  45.473100000000002   \n",
       "14676                NaN                       NaN  45.480800000000002   \n",
       "14677  Piave - Tricolore        Via Nino Bixio, 15  45.472200000000001   \n",
       "14678             Pagano           via Grancini, 6  45.471200000000003   \n",
       "14679              Dezza              via boni, 24  45.459600000000002   \n",
       "\n",
       "                longitude  \n",
       "0      9.1866000000000003  \n",
       "1      9.2347000000000001  \n",
       "2      9.1173999999999999  \n",
       "3      9.1494999999999997  \n",
       "4      9.1259800000000002  \n",
       "...                   ...  \n",
       "14675  9.1189699999999991  \n",
       "14676  9.1242000000000001  \n",
       "14677  9.2089999999999996  \n",
       "14678  9.1608000000000001  \n",
       "14679  9.1567000000000007  \n",
       "\n",
       "[14680 rows x 19 columns]"
      ]
     },
     "execution_count": 274,
     "metadata": {},
     "output_type": "execute_result"
    }
   ],
   "source": [
    "df"
   ]
  },
  {
   "cell_type": "markdown",
   "metadata": {},
   "source": [
    "## Explore and clean data"
   ]
  },
  {
   "cell_type": "markdown",
   "metadata": {},
   "source": [
    "We are going to explore the data, searching for type errors into the columns and correct it, to have a dataframe ready to be worked."
   ]
  },
  {
   "cell_type": "code",
   "execution_count": 275,
   "metadata": {},
   "outputs": [
    {
     "data": {
      "text/plain": [
       "(14680, 19)"
      ]
     },
     "execution_count": 275,
     "metadata": {},
     "output_type": "execute_result"
    }
   ],
   "source": [
    "df.shape"
   ]
  },
  {
   "cell_type": "markdown",
   "metadata": {},
   "source": [
    "We have 14680 apartament data entries and 19 columns, each corresponding to the appartments' characteristics"
   ]
  },
  {
   "cell_type": "markdown",
   "metadata": {},
   "source": [
    "First of all we are going to get the number of missing values per column"
   ]
  },
  {
   "cell_type": "code",
   "execution_count": 276,
   "metadata": {},
   "outputs": [],
   "source": [
    "missing_values_count = df.isnull().sum()"
   ]
  },
  {
   "cell_type": "code",
   "execution_count": 277,
   "metadata": {},
   "outputs": [
    {
     "data": {
      "text/plain": [
       "Unnamed: 0                0\n",
       "price_€                  31\n",
       "building_fees_month    4312\n",
       "n_rooms                 997\n",
       "surface_sqm             163\n",
       "n_bathrooms             647\n",
       "floor                  1016\n",
       "floor_2                4909\n",
       "tot_floors             1320\n",
       "parking                   0\n",
       "year_construction      2761\n",
       "status                    0\n",
       "heating                1272\n",
       "energy_efficiency      2308\n",
       "city                    245\n",
       "neighborhood           1159\n",
       "adress                 1159\n",
       "latitude                 24\n",
       "longitude                24\n",
       "dtype: int64"
      ]
     },
     "execution_count": 277,
     "metadata": {},
     "output_type": "execute_result"
    }
   ],
   "source": [
    "missing_values_count"
   ]
  },
  {
   "cell_type": "markdown",
   "metadata": {},
   "source": [
    "It might be helpful to see what percentage of the values in the dataset were missing to give us a better sense of the scale of this problem:"
   ]
  },
  {
   "cell_type": "code",
   "execution_count": 278,
   "metadata": {},
   "outputs": [
    {
     "name": "stdout",
     "output_type": "stream",
     "text": [
      "We have 8.01% of missing values\n"
     ]
    }
   ],
   "source": [
    "total_cells = np.product(df.shape)\n",
    "total_missing_values = missing_values_count.sum()\n",
    "\n",
    "percent_missing = (total_missing_values/total_cells)*100\n",
    "\n",
    "print(f'We have {round(percent_missing,2)}% of missing values')"
   ]
  },
  {
   "cell_type": "markdown",
   "metadata": {},
   "source": [
    "Less than 10% of data is missing, not bad!"
   ]
  },
  {
   "cell_type": "markdown",
   "metadata": {},
   "source": [
    "Now we are going to investigate each column and decide the procedure to follow to manage the missing data"
   ]
  },
  {
   "cell_type": "markdown",
   "metadata": {},
   "source": [
    "### I) Unamed: 0 Column"
   ]
  },
  {
   "cell_type": "markdown",
   "metadata": {},
   "source": [
    "We drop the 'Unnamed: 0'column that doesn't contain any relevant information"
   ]
  },
  {
   "cell_type": "code",
   "execution_count": 279,
   "metadata": {},
   "outputs": [],
   "source": [
    "df_clean = df.drop('Unnamed: 0',axis=1)"
   ]
  },
  {
   "cell_type": "code",
   "execution_count": 280,
   "metadata": {},
   "outputs": [
    {
     "data": {
      "text/plain": [
       "(14680, 18)"
      ]
     },
     "execution_count": 280,
     "metadata": {},
     "output_type": "execute_result"
    }
   ],
   "source": [
    "df_clean.shape"
   ]
  },
  {
   "cell_type": "markdown",
   "metadata": {},
   "source": [
    "### II) Price € Column"
   ]
  },
  {
   "cell_type": "markdown",
   "metadata": {},
   "source": [
    "Next, we explore the price column: as we can see, only 74 appartments doesn't have price. Because this correspond to the 0,5% of all appartments and the price prepresent a core feature for our model, we proced to drop these rows."
   ]
  },
  {
   "cell_type": "code",
   "execution_count": 281,
   "metadata": {},
   "outputs": [],
   "source": [
    "df_clean = df_clean[df_clean['price_€'].notna()]"
   ]
  },
  {
   "cell_type": "code",
   "execution_count": 282,
   "metadata": {},
   "outputs": [
    {
     "data": {
      "text/plain": [
       "(14649, 18)"
      ]
     },
     "execution_count": 282,
     "metadata": {},
     "output_type": "execute_result"
    }
   ],
   "source": [
    "df_clean.shape"
   ]
  },
  {
   "cell_type": "code",
   "execution_count": 283,
   "metadata": {},
   "outputs": [
    {
     "data": {
      "text/plain": [
       "price_€                   0\n",
       "building_fees_month    4281\n",
       "n_rooms                 994\n",
       "surface_sqm             160\n",
       "n_bathrooms             644\n",
       "floor                  1013\n",
       "floor_2                4892\n",
       "tot_floors             1317\n",
       "parking                   0\n",
       "year_construction      2754\n",
       "status                    0\n",
       "heating                1269\n",
       "energy_efficiency      2305\n",
       "city                    242\n",
       "neighborhood           1156\n",
       "adress                 1156\n",
       "latitude                 21\n",
       "longitude                21\n",
       "dtype: int64"
      ]
     },
     "execution_count": 283,
     "metadata": {},
     "output_type": "execute_result"
    }
   ],
   "source": [
    "df_clean.isnull().sum()"
   ]
  },
  {
   "cell_type": "markdown",
   "metadata": {},
   "source": [
    "Now we have to check if all the price entries have the correct format and also we have to drop the rows where there is a range of price instead of a single entry, because in this case the real estate agency have create in the same page an advertasing for various appartments to sell, so the informaton doesn't refer to an unique appartment."
   ]
  },
  {
   "cell_type": "markdown",
   "metadata": {},
   "source": [
    "We start searching and dropping rows that contain the word 'da' (meaning 'from') mening that the real estate advertising refer to more than one apartment "
   ]
  },
  {
   "cell_type": "code",
   "execution_count": 284,
   "metadata": {},
   "outputs": [
    {
     "data": {
      "text/plain": [
       "1492"
      ]
     },
     "execution_count": 284,
     "metadata": {},
     "output_type": "execute_result"
    }
   ],
   "source": [
    "df_clean['price_€'][df_clean['price_€'].str.contains('da')].count()"
   ]
  },
  {
   "cell_type": "markdown",
   "metadata": {},
   "source": [
    "We proceed to drop these 1492 rows"
   ]
  },
  {
   "cell_type": "code",
   "execution_count": 285,
   "metadata": {},
   "outputs": [],
   "source": [
    "# first we obtain the index of the rows that contain the word 'da' and then drop the row with that index\n",
    "df_clean.drop(df_clean['price_€'][df_clean['price_€'].str.contains('da')].index,inplace=True)"
   ]
  },
  {
   "cell_type": "code",
   "execution_count": 286,
   "metadata": {},
   "outputs": [
    {
     "data": {
      "text/plain": [
       "(13157, 18)"
      ]
     },
     "execution_count": 286,
     "metadata": {},
     "output_type": "execute_result"
    }
   ],
   "source": [
    "df_clean.shape"
   ]
  },
  {
   "cell_type": "markdown",
   "metadata": {},
   "source": [
    "Now another format' problem in the dataframe is that there are rows that correctly indicate the price but in the same cell are followed by a string indicating that the price was discouted. an example of this is:\n",
    "\n",
    "'220.000\n",
    "\n",
    "235.000(-6.4%)\n",
    "\n",
    "Prezzo diminuito di  15.000(-6.4%)il 29/01/2021 (18 giorni fa)'\n",
    "\n",
    "so in this case we want to keep only the actual price indicating at the beginning of the row (in our example 235.000)\n",
    "To do that we can use Regex language."
   ]
  },
  {
   "cell_type": "code",
   "execution_count": 287,
   "metadata": {},
   "outputs": [
    {
     "data": {
      "text/plain": [
       "4806      175.000\\n                                    ...\n",
       "4913      139.000\\n                                    ...\n",
       "5008      189.000\\n                                    ...\n",
       "5119      430.000\\n                                    ...\n",
       "5125      198.000\\n                                    ...\n",
       "                               ...                        \n",
       "14335     750.000\\n                                    ...\n",
       "14343     2.158.000\\n                                  ...\n",
       "14428     561.159\\n                                    ...\n",
       "14600     490.000\\n                                    ...\n",
       "14657     520.000\\n                                    ...\n",
       "Name: price_€, Length: 259, dtype: object"
      ]
     },
     "execution_count": 287,
     "metadata": {},
     "output_type": "execute_result"
    }
   ],
   "source": [
    "df_clean['price_€'][df_clean['price_€'].str.contains('diminuito')]"
   ]
  },
  {
   "cell_type": "code",
   "execution_count": 288,
   "metadata": {},
   "outputs": [],
   "source": [
    "#we extract all the characters till to \\n caracter\n",
    "regex = r'^(.*)\\n'"
   ]
  },
  {
   "cell_type": "code",
   "execution_count": 289,
   "metadata": {},
   "outputs": [],
   "source": [
    "regex_df=pd.DataFrame(df_clean['price_€'][df_clean['price_€'].str.contains('diminuito')].str.extract(regex,expand=False))"
   ]
  },
  {
   "cell_type": "code",
   "execution_count": 290,
   "metadata": {},
   "outputs": [],
   "source": [
    "#replace the original value with the new extracted\n",
    "df_clean.update(regex_df)"
   ]
  },
  {
   "cell_type": "code",
   "execution_count": 291,
   "metadata": {},
   "outputs": [
    {
     "data": {
      "text/plain": [
       "(13157, 18)"
      ]
     },
     "execution_count": 291,
     "metadata": {},
     "output_type": "execute_result"
    }
   ],
   "source": [
    "df_clean.shape"
   ]
  },
  {
   "cell_type": "markdown",
   "metadata": {},
   "source": [
    "Now we drop rows that contain the symbol '-' because refer to a range of prices"
   ]
  },
  {
   "cell_type": "code",
   "execution_count": 292,
   "metadata": {},
   "outputs": [],
   "source": [
    "df_clean.drop(df_clean['price_€'][df_clean['price_€'].str.contains('-')].index,inplace=True)"
   ]
  },
  {
   "cell_type": "code",
   "execution_count": 293,
   "metadata": {},
   "outputs": [
    {
     "data": {
      "text/plain": [
       "(13102, 18)"
      ]
     },
     "execution_count": 293,
     "metadata": {},
     "output_type": "execute_result"
    }
   ],
   "source": [
    "df_clean.shape"
   ]
  },
  {
   "cell_type": "markdown",
   "metadata": {},
   "source": [
    "Lastly, we drop rows that contain 'Prezzo su richiesta' ('price on request')"
   ]
  },
  {
   "cell_type": "code",
   "execution_count": 294,
   "metadata": {},
   "outputs": [],
   "source": [
    "df_clean.drop(df_clean['price_€'][df_clean['price_€'].str.contains('Prezzo')].index,inplace=True)"
   ]
  },
  {
   "cell_type": "code",
   "execution_count": 295,
   "metadata": {},
   "outputs": [
    {
     "data": {
      "text/plain": [
       "(12562, 18)"
      ]
     },
     "execution_count": 295,
     "metadata": {},
     "output_type": "execute_result"
    }
   ],
   "source": [
    "df_clean.shape"
   ]
  },
  {
   "cell_type": "markdown",
   "metadata": {},
   "source": [
    "Now we want to convert the column price in integer data type"
   ]
  },
  {
   "cell_type": "code",
   "execution_count": 296,
   "metadata": {},
   "outputs": [],
   "source": [
    "#we eliminate the thousands point separator\n",
    "df_clean['price_€']=df_clean['price_€'].str.replace('.','')"
   ]
  },
  {
   "cell_type": "code",
   "execution_count": 297,
   "metadata": {},
   "outputs": [
    {
     "data": {
      "text/html": [
       "<div>\n",
       "<style scoped>\n",
       "    .dataframe tbody tr th:only-of-type {\n",
       "        vertical-align: middle;\n",
       "    }\n",
       "\n",
       "    .dataframe tbody tr th {\n",
       "        vertical-align: top;\n",
       "    }\n",
       "\n",
       "    .dataframe thead th {\n",
       "        text-align: right;\n",
       "    }\n",
       "</style>\n",
       "<table border=\"1\" class=\"dataframe\">\n",
       "  <thead>\n",
       "    <tr style=\"text-align: right;\">\n",
       "      <th></th>\n",
       "      <th>price_€</th>\n",
       "      <th>building_fees_month</th>\n",
       "      <th>n_rooms</th>\n",
       "      <th>surface_sqm</th>\n",
       "      <th>n_bathrooms</th>\n",
       "      <th>floor</th>\n",
       "      <th>floor_2</th>\n",
       "      <th>tot_floors</th>\n",
       "      <th>parking</th>\n",
       "      <th>year_construction</th>\n",
       "      <th>status</th>\n",
       "      <th>heating</th>\n",
       "      <th>energy_efficiency</th>\n",
       "      <th>city</th>\n",
       "      <th>neighborhood</th>\n",
       "      <th>adress</th>\n",
       "      <th>latitude</th>\n",
       "      <th>longitude</th>\n",
       "    </tr>\n",
       "  </thead>\n",
       "  <tbody>\n",
       "    <tr>\n",
       "      <th>0</th>\n",
       "      <td>630000</td>\n",
       "      <td>67.0</td>\n",
       "      <td>3.0</td>\n",
       "      <td>105</td>\n",
       "      <td>2</td>\n",
       "      <td>2</td>\n",
       "      <td>2.0</td>\n",
       "      <td>3.0</td>\n",
       "      <td>0</td>\n",
       "      <td>1950.0</td>\n",
       "      <td>Buono</td>\n",
       "      <td>Autonomo</td>\n",
       "      <td>G</td>\n",
       "      <td>Milano</td>\n",
       "      <td>Isola</td>\n",
       "      <td>Via Carmagnola, 3</td>\n",
       "      <td>45.4863</td>\n",
       "      <td>9.1866000000000003</td>\n",
       "    </tr>\n",
       "    <tr>\n",
       "      <th>1</th>\n",
       "      <td>320000</td>\n",
       "      <td>133.0</td>\n",
       "      <td>2.0</td>\n",
       "      <td>57</td>\n",
       "      <td>1</td>\n",
       "      <td>1</td>\n",
       "      <td>1.0</td>\n",
       "      <td>7.0</td>\n",
       "      <td>0</td>\n",
       "      <td>1950.0</td>\n",
       "      <td>Ottimo</td>\n",
       "      <td>Centralizzato</td>\n",
       "      <td>G</td>\n",
       "      <td>Milano</td>\n",
       "      <td>Città Studi</td>\n",
       "      <td>Via Giovanni Pacini, 67</td>\n",
       "      <td>45.484299999999998</td>\n",
       "      <td>9.2347000000000001</td>\n",
       "    </tr>\n",
       "    <tr>\n",
       "      <th>2</th>\n",
       "      <td>330000</td>\n",
       "      <td>150.0</td>\n",
       "      <td>3.0</td>\n",
       "      <td>60</td>\n",
       "      <td>1</td>\n",
       "      <td>2</td>\n",
       "      <td>2.0</td>\n",
       "      <td>3.0</td>\n",
       "      <td>0</td>\n",
       "      <td>1970.0</td>\n",
       "      <td>Nuovo</td>\n",
       "      <td>Centralizzato</td>\n",
       "      <td>D</td>\n",
       "      <td>Milano</td>\n",
       "      <td>San Siro</td>\n",
       "      <td>Via Federico Tesio</td>\n",
       "      <td>45.479599999999998</td>\n",
       "      <td>9.1173999999999999</td>\n",
       "    </tr>\n",
       "    <tr>\n",
       "      <th>3</th>\n",
       "      <td>840000</td>\n",
       "      <td>285.0</td>\n",
       "      <td>4.0</td>\n",
       "      <td>135</td>\n",
       "      <td>2</td>\n",
       "      <td>2</td>\n",
       "      <td>2.0</td>\n",
       "      <td>8.0</td>\n",
       "      <td>1</td>\n",
       "      <td>1970.0</td>\n",
       "      <td>Ristrutturare</td>\n",
       "      <td>Centralizzato</td>\n",
       "      <td>G</td>\n",
       "      <td>Milano</td>\n",
       "      <td>De Angeli</td>\n",
       "      <td>Piazza Ernesto De Angeli</td>\n",
       "      <td>45.4666</td>\n",
       "      <td>9.1494999999999997</td>\n",
       "    </tr>\n",
       "    <tr>\n",
       "      <th>4</th>\n",
       "      <td>370000</td>\n",
       "      <td>200.0</td>\n",
       "      <td>4.0</td>\n",
       "      <td>95</td>\n",
       "      <td>1</td>\n",
       "      <td>2</td>\n",
       "      <td>2.0</td>\n",
       "      <td>7.0</td>\n",
       "      <td>0</td>\n",
       "      <td>1965.0</td>\n",
       "      <td>Buono</td>\n",
       "      <td>Centralizzato</td>\n",
       "      <td>G</td>\n",
       "      <td>Milano</td>\n",
       "      <td>Primaticcio</td>\n",
       "      <td>Via delle Genziane, 7</td>\n",
       "      <td>45.452800000000003</td>\n",
       "      <td>9.1259800000000002</td>\n",
       "    </tr>\n",
       "  </tbody>\n",
       "</table>\n",
       "</div>"
      ],
      "text/plain": [
       "   price_€  building_fees_month  n_rooms surface_sqm n_bathrooms floor  \\\n",
       "0   630000                 67.0      3.0         105           2     2   \n",
       "1   320000                133.0      2.0          57           1     1   \n",
       "2   330000                150.0      3.0          60           1     2   \n",
       "3   840000                285.0      4.0         135           2     2   \n",
       "4   370000                200.0      4.0          95           1     2   \n",
       "\n",
       "   floor_2  tot_floors  parking  year_construction         status  \\\n",
       "0      2.0         3.0        0             1950.0          Buono   \n",
       "1      1.0         7.0        0             1950.0         Ottimo   \n",
       "2      2.0         3.0        0             1970.0          Nuovo   \n",
       "3      2.0         8.0        1             1970.0  Ristrutturare   \n",
       "4      2.0         7.0        0             1965.0          Buono   \n",
       "\n",
       "         heating energy_efficiency    city neighborhood  \\\n",
       "0       Autonomo                 G  Milano        Isola   \n",
       "1  Centralizzato                 G  Milano  Città Studi   \n",
       "2  Centralizzato                 D  Milano     San Siro   \n",
       "3  Centralizzato                 G  Milano    De Angeli   \n",
       "4  Centralizzato                 G  Milano  Primaticcio   \n",
       "\n",
       "                     adress            latitude           longitude  \n",
       "0         Via Carmagnola, 3             45.4863  9.1866000000000003  \n",
       "1   Via Giovanni Pacini, 67  45.484299999999998  9.2347000000000001  \n",
       "2        Via Federico Tesio  45.479599999999998  9.1173999999999999  \n",
       "3  Piazza Ernesto De Angeli             45.4666  9.1494999999999997  \n",
       "4     Via delle Genziane, 7  45.452800000000003  9.1259800000000002  "
      ]
     },
     "execution_count": 297,
     "metadata": {},
     "output_type": "execute_result"
    }
   ],
   "source": [
    "df_clean.head()"
   ]
  },
  {
   "cell_type": "code",
   "execution_count": 298,
   "metadata": {},
   "outputs": [],
   "source": [
    "df_clean['price_€'] = pd.to_numeric(df_clean['price_€'])"
   ]
  },
  {
   "cell_type": "markdown",
   "metadata": {},
   "source": [
    "Now that we have numeric values we can investigate about the distribution of the price values"
   ]
  },
  {
   "cell_type": "code",
   "execution_count": 299,
   "metadata": {},
   "outputs": [
    {
     "data": {
      "text/plain": [
       "count    1.256200e+04\n",
       "mean     5.756830e+05\n",
       "std      6.717557e+06\n",
       "min      8.700000e+02\n",
       "25%      2.250000e+05\n",
       "50%      3.400000e+05\n",
       "75%      5.800000e+05\n",
       "90%      9.900000e+05\n",
       "95%      1.480000e+06\n",
       "99%      2.950000e+06\n",
       "max      7.500001e+08\n",
       "Name: price_€, dtype: float64"
      ]
     },
     "execution_count": 299,
     "metadata": {},
     "output_type": "execute_result"
    }
   ],
   "source": [
    "df_clean['price_€'].describe(percentiles =[.25,.5,.75,.9,.95,.99])"
   ]
  },
  {
   "cell_type": "code",
   "execution_count": 300,
   "metadata": {},
   "outputs": [
    {
     "data": {
      "text/plain": [
       "<matplotlib.axes._subplots.AxesSubplot at 0x2cb772ee4c8>"
      ]
     },
     "execution_count": 300,
     "metadata": {},
     "output_type": "execute_result"
    },
    {
     "data": {
      "image/png": "[encoded data removed]",
      "text/plain": [
       "<Figure size 432x288 with 1 Axes>"
      ]
     },
     "metadata": {
      "needs_background": "light"
     },
     "output_type": "display_data"
    }
   ],
   "source": [
    "sns.distplot(df_clean['price_€'], kde = False, color = 'b', hist_kws={'alpha': 0.9})"
   ]
  },
  {
   "cell_type": "code",
   "execution_count": 301,
   "metadata": {},
   "outputs": [
    {
     "data": {
      "image/png": "[encoded data removed]",
      "text/plain": [
       "<Figure size 432x288 with 1 Axes>"
      ]
     },
     "metadata": {
      "needs_background": "light"
     },
     "output_type": "display_data"
    }
   ],
   "source": [
    "plt.boxplot(df_clean['price_€']);"
   ]
  },
  {
   "cell_type": "markdown",
   "metadata": {},
   "source": [
    "As you can see there have to be a outlier value because the distribution is highly skewed to the right. we can see that also through the boxplot"
   ]
  },
  {
   "cell_type": "code",
   "execution_count": 302,
   "metadata": {},
   "outputs": [
    {
     "data": {
      "text/html": [
       "<div>\n",
       "<style scoped>\n",
       "    .dataframe tbody tr th:only-of-type {\n",
       "        vertical-align: middle;\n",
       "    }\n",
       "\n",
       "    .dataframe tbody tr th {\n",
       "        vertical-align: top;\n",
       "    }\n",
       "\n",
       "    .dataframe thead th {\n",
       "        text-align: right;\n",
       "    }\n",
       "</style>\n",
       "<table border=\"1\" class=\"dataframe\">\n",
       "  <thead>\n",
       "    <tr style=\"text-align: right;\">\n",
       "      <th></th>\n",
       "      <th>price_€</th>\n",
       "      <th>building_fees_month</th>\n",
       "      <th>n_rooms</th>\n",
       "      <th>surface_sqm</th>\n",
       "      <th>n_bathrooms</th>\n",
       "      <th>floor</th>\n",
       "      <th>floor_2</th>\n",
       "      <th>tot_floors</th>\n",
       "      <th>parking</th>\n",
       "      <th>year_construction</th>\n",
       "      <th>status</th>\n",
       "      <th>heating</th>\n",
       "      <th>energy_efficiency</th>\n",
       "      <th>city</th>\n",
       "      <th>neighborhood</th>\n",
       "      <th>adress</th>\n",
       "      <th>latitude</th>\n",
       "      <th>longitude</th>\n",
       "    </tr>\n",
       "  </thead>\n",
       "  <tbody>\n",
       "    <tr>\n",
       "      <th>12906</th>\n",
       "      <td>750000120</td>\n",
       "      <td>100.0</td>\n",
       "      <td>2.0</td>\n",
       "      <td>105</td>\n",
       "      <td>1</td>\n",
       "      <td>R</td>\n",
       "      <td>NaN</td>\n",
       "      <td>5.0</td>\n",
       "      <td>0</td>\n",
       "      <td>1900.0</td>\n",
       "      <td>Ottimo</td>\n",
       "      <td>Autonomo</td>\n",
       "      <td>B</td>\n",
       "      <td>Milano</td>\n",
       "      <td>Sempione</td>\n",
       "      <td>Corso Sempione</td>\n",
       "      <td>45.4818</td>\n",
       "      <td>9.1645000000000003</td>\n",
       "    </tr>\n",
       "  </tbody>\n",
       "</table>\n",
       "</div>"
      ],
      "text/plain": [
       "         price_€  building_fees_month  n_rooms surface_sqm n_bathrooms floor  \\\n",
       "12906  750000120                100.0      2.0         105           1     R   \n",
       "\n",
       "       floor_2  tot_floors  parking  year_construction  status   heating  \\\n",
       "12906      NaN         5.0        0             1900.0  Ottimo  Autonomo   \n",
       "\n",
       "      energy_efficiency    city neighborhood          adress latitude  \\\n",
       "12906                 B  Milano     Sempione  Corso Sempione  45.4818   \n",
       "\n",
       "                longitude  \n",
       "12906  9.1645000000000003  "
      ]
     },
     "execution_count": 302,
     "metadata": {},
     "output_type": "execute_result"
    }
   ],
   "source": [
    "df_clean[df_clean['price_€']>30000000]"
   ]
  },
  {
   "cell_type": "markdown",
   "metadata": {},
   "source": [
    "We proceed to drop the row that contain that erroneous value"
   ]
  },
  {
   "cell_type": "code",
   "execution_count": 303,
   "metadata": {},
   "outputs": [],
   "source": [
    "df_clean.drop(df_clean[df_clean['price_€']>30000000].index,inplace=True)"
   ]
  },
  {
   "cell_type": "code",
   "execution_count": 304,
   "metadata": {},
   "outputs": [
    {
     "data": {
      "text/plain": [
       "(12561, 18)"
      ]
     },
     "execution_count": 304,
     "metadata": {},
     "output_type": "execute_result"
    }
   ],
   "source": [
    "df_clean.shape"
   ]
  },
  {
   "cell_type": "markdown",
   "metadata": {},
   "source": [
    "We are going to delete also the apartaments with a price < of 10.000 €"
   ]
  },
  {
   "cell_type": "code",
   "execution_count": 305,
   "metadata": {},
   "outputs": [],
   "source": [
    "df_clean.drop(df_clean[df_clean['price_€']<10000].index,inplace=True)"
   ]
  },
  {
   "cell_type": "code",
   "execution_count": 306,
   "metadata": {},
   "outputs": [
    {
     "data": {
      "text/plain": [
       "price_€                   0\n",
       "building_fees_month    2503\n",
       "n_rooms                 610\n",
       "surface_sqm              30\n",
       "n_bathrooms             234\n",
       "floor                   587\n",
       "floor_2                3946\n",
       "tot_floors              609\n",
       "parking                   0\n",
       "year_construction      1745\n",
       "status                    0\n",
       "heating                 435\n",
       "energy_efficiency      1539\n",
       "city                    222\n",
       "neighborhood           1024\n",
       "adress                 1024\n",
       "latitude                 16\n",
       "longitude                16\n",
       "dtype: int64"
      ]
     },
     "execution_count": 306,
     "metadata": {},
     "output_type": "execute_result"
    }
   ],
   "source": [
    "df_clean.isnull().sum()"
   ]
  },
  {
   "cell_type": "markdown",
   "metadata": {},
   "source": [
    "### III) building_fees_month Column"
   ]
  },
  {
   "cell_type": "code",
   "execution_count": 307,
   "metadata": {},
   "outputs": [
    {
     "data": {
      "text/plain": [
       "0         67.0\n",
       "1        133.0\n",
       "2        150.0\n",
       "3        285.0\n",
       "4        200.0\n",
       "         ...  \n",
       "14675      2.0\n",
       "14676    900.0\n",
       "14677    150.0\n",
       "14678      NaN\n",
       "14679    280.0\n",
       "Name: building_fees_month, Length: 12558, dtype: float64"
      ]
     },
     "execution_count": 307,
     "metadata": {},
     "output_type": "execute_result"
    }
   ],
   "source": [
    "df_clean['building_fees_month']"
   ]
  },
  {
   "cell_type": "markdown",
   "metadata": {},
   "source": [
    "The type of the values is float64 so we can investigate the distribution"
   ]
  },
  {
   "cell_type": "code",
   "execution_count": 308,
   "metadata": {},
   "outputs": [
    {
     "data": {
      "text/plain": [
       "count    10055.000000\n",
       "mean       179.174540\n",
       "std        136.035877\n",
       "min          0.000000\n",
       "25%        100.000000\n",
       "50%        150.000000\n",
       "75%        213.000000\n",
       "90%        341.000000\n",
       "95%        450.000000\n",
       "99%        722.300000\n",
       "max        980.000000\n",
       "Name: building_fees_month, dtype: float64"
      ]
     },
     "execution_count": 308,
     "metadata": {},
     "output_type": "execute_result"
    }
   ],
   "source": [
    "df_clean.building_fees_month.describe(percentiles =[.25,.5,.75,.9,.95,.99])"
   ]
  },
  {
   "cell_type": "code",
   "execution_count": 309,
   "metadata": {},
   "outputs": [
    {
     "data": {
      "text/plain": [
       "<matplotlib.axes._subplots.AxesSubplot at 0x2cb779c6348>"
      ]
     },
     "execution_count": 309,
     "metadata": {},
     "output_type": "execute_result"
    },
    {
     "data": {
      "image/png": "[encoded data removed]",
      "text/plain": [
       "<Figure size 432x288 with 1 Axes>"
      ]
     },
     "metadata": {
      "needs_background": "light"
     },
     "output_type": "display_data"
    }
   ],
   "source": [
    "sns.distplot(df_clean['building_fees_month'], kde = False, color = 'b', hist_kws={'alpha': 0.9})"
   ]
  },
  {
   "cell_type": "code",
   "execution_count": 310,
   "metadata": {},
   "outputs": [
    {
     "data": {
      "image/png": "[encoded data removed]",
      "text/plain": [
       "<Figure size 432x288 with 1 Axes>"
      ]
     },
     "metadata": {
      "needs_background": "light"
     },
     "output_type": "display_data"
    }
   ],
   "source": [
    "plt.boxplot(df_clean['building_fees_month'][df_clean['building_fees_month'].notna()]);"
   ]
  },
  {
   "cell_type": "markdown",
   "metadata": {},
   "source": [
    "### IV) n_rooms Column"
   ]
  },
  {
   "cell_type": "markdown",
   "metadata": {},
   "source": [
    "We start analyzing the feature distribution"
   ]
  },
  {
   "cell_type": "code",
   "execution_count": 313,
   "metadata": {},
   "outputs": [
    {
     "data": {
      "text/plain": [
       "count    11948.000000\n",
       "mean         2.641028\n",
       "std          0.989582\n",
       "min          1.000000\n",
       "25%          2.000000\n",
       "50%          3.000000\n",
       "75%          3.000000\n",
       "90%          4.000000\n",
       "95%          4.000000\n",
       "99%          5.000000\n",
       "max         20.000000\n",
       "Name: n_rooms, dtype: float64"
      ]
     },
     "execution_count": 313,
     "metadata": {},
     "output_type": "execute_result"
    }
   ],
   "source": [
    "df_clean.n_rooms.describe(percentiles =[.25,.5,.75,.9,.95,.99])"
   ]
  },
  {
   "cell_type": "markdown",
   "metadata": {},
   "source": [
    "As you can see, the 99% of the apartments have a maximum of 5 rooms. We are going to investigate if the apartments with more of 5 represents a typing error"
   ]
  },
  {
   "cell_type": "code",
   "execution_count": 314,
   "metadata": {},
   "outputs": [
    {
     "data": {
      "text/html": [
       "<div>\n",
       "<style scoped>\n",
       "    .dataframe tbody tr th:only-of-type {\n",
       "        vertical-align: middle;\n",
       "    }\n",
       "\n",
       "    .dataframe tbody tr th {\n",
       "        vertical-align: top;\n",
       "    }\n",
       "\n",
       "    .dataframe thead th {\n",
       "        text-align: right;\n",
       "    }\n",
       "</style>\n",
       "<table border=\"1\" class=\"dataframe\">\n",
       "  <thead>\n",
       "    <tr style=\"text-align: right;\">\n",
       "      <th></th>\n",
       "      <th>price_€</th>\n",
       "      <th>building_fees_month</th>\n",
       "      <th>n_rooms</th>\n",
       "      <th>surface_sqm</th>\n",
       "      <th>n_bathrooms</th>\n",
       "      <th>floor</th>\n",
       "      <th>floor_2</th>\n",
       "      <th>tot_floors</th>\n",
       "      <th>parking</th>\n",
       "      <th>year_construction</th>\n",
       "      <th>status</th>\n",
       "      <th>heating</th>\n",
       "      <th>energy_efficiency</th>\n",
       "      <th>city</th>\n",
       "      <th>neighborhood</th>\n",
       "      <th>adress</th>\n",
       "      <th>latitude</th>\n",
       "      <th>longitude</th>\n",
       "    </tr>\n",
       "  </thead>\n",
       "  <tbody>\n",
       "    <tr>\n",
       "      <th>4242</th>\n",
       "      <td>1350000</td>\n",
       "      <td>NaN</td>\n",
       "      <td>6.0</td>\n",
       "      <td>210</td>\n",
       "      <td>3+</td>\n",
       "      <td>5</td>\n",
       "      <td>5.0</td>\n",
       "      <td>5.0</td>\n",
       "      <td>0</td>\n",
       "      <td>1800.0</td>\n",
       "      <td>Buono</td>\n",
       "      <td>Centralizzato</td>\n",
       "      <td>G</td>\n",
       "      <td>Milano</td>\n",
       "      <td>Montenero</td>\n",
       "      <td>Via Amatore Antonio Sciesa, 1</td>\n",
       "      <td>45.461799999999997</td>\n",
       "      <td>9.2096</td>\n",
       "    </tr>\n",
       "    <tr>\n",
       "      <th>7132</th>\n",
       "      <td>1150000</td>\n",
       "      <td>NaN</td>\n",
       "      <td>7.0</td>\n",
       "      <td>500</td>\n",
       "      <td>3+</td>\n",
       "      <td>NaN</td>\n",
       "      <td>NaN</td>\n",
       "      <td>1.0</td>\n",
       "      <td>2</td>\n",
       "      <td>1950.0</td>\n",
       "      <td>Buono</td>\n",
       "      <td>Autonomo</td>\n",
       "      <td>G</td>\n",
       "      <td>Milano</td>\n",
       "      <td>Porta Venezia</td>\n",
       "      <td>via vittorio veneto</td>\n",
       "      <td>45.476599999999998</td>\n",
       "      <td>9.2012900000000002</td>\n",
       "    </tr>\n",
       "    <tr>\n",
       "      <th>8550</th>\n",
       "      <td>360000</td>\n",
       "      <td>200.0</td>\n",
       "      <td>6.0</td>\n",
       "      <td>230</td>\n",
       "      <td>1</td>\n",
       "      <td>S - T</td>\n",
       "      <td>NaN</td>\n",
       "      <td>3.0</td>\n",
       "      <td>1</td>\n",
       "      <td>1920.0</td>\n",
       "      <td>Ristrutturare</td>\n",
       "      <td>NaN</td>\n",
       "      <td>G</td>\n",
       "      <td>Milano</td>\n",
       "      <td>Greco - Segnano</td>\n",
       "      <td>Via Comune Antico, 11</td>\n",
       "      <td>45.503</td>\n",
       "      <td>9.2094000000000005</td>\n",
       "    </tr>\n",
       "    <tr>\n",
       "      <th>8555</th>\n",
       "      <td>1800000</td>\n",
       "      <td>NaN</td>\n",
       "      <td>20.0</td>\n",
       "      <td>648</td>\n",
       "      <td>3+</td>\n",
       "      <td>8 - 9</td>\n",
       "      <td>NaN</td>\n",
       "      <td>9.0</td>\n",
       "      <td>2</td>\n",
       "      <td>2020.0</td>\n",
       "      <td>Nuovo</td>\n",
       "      <td>Autonomo</td>\n",
       "      <td>A+</td>\n",
       "      <td>Milano</td>\n",
       "      <td>Gallaratese</td>\n",
       "      <td>Via Cefalù</td>\n",
       "      <td>45.502000000000002</td>\n",
       "      <td>9.1153999999999993</td>\n",
       "    </tr>\n",
       "    <tr>\n",
       "      <th>13050</th>\n",
       "      <td>1900000</td>\n",
       "      <td>NaN</td>\n",
       "      <td>10.0</td>\n",
       "      <td>1.575</td>\n",
       "      <td>NaN</td>\n",
       "      <td>NaN</td>\n",
       "      <td>NaN</td>\n",
       "      <td>1.0</td>\n",
       "      <td>1</td>\n",
       "      <td>NaN</td>\n",
       "      <td>Buono</td>\n",
       "      <td>Autonomo</td>\n",
       "      <td>NaN</td>\n",
       "      <td>Milano</td>\n",
       "      <td>Gallaratese</td>\n",
       "      <td>Via Gallarate</td>\n",
       "      <td>45.500999999999998</td>\n",
       "      <td>9.1212</td>\n",
       "    </tr>\n",
       "    <tr>\n",
       "      <th>13567</th>\n",
       "      <td>4300000</td>\n",
       "      <td>NaN</td>\n",
       "      <td>15.0</td>\n",
       "      <td>752</td>\n",
       "      <td>3+</td>\n",
       "      <td>S - 4</td>\n",
       "      <td>NaN</td>\n",
       "      <td>4.0</td>\n",
       "      <td>2</td>\n",
       "      <td>2008.0</td>\n",
       "      <td>Ottimo</td>\n",
       "      <td>Autonomo</td>\n",
       "      <td>C</td>\n",
       "      <td>Milano</td>\n",
       "      <td>San Siro</td>\n",
       "      <td>Via dei Sagredo</td>\n",
       "      <td>45.476500000000001</td>\n",
       "      <td>9.1303000000000001</td>\n",
       "    </tr>\n",
       "  </tbody>\n",
       "</table>\n",
       "</div>"
      ],
      "text/plain": [
       "       price_€  building_fees_month  n_rooms surface_sqm n_bathrooms  floor  \\\n",
       "4242   1350000                  NaN      6.0         210          3+      5   \n",
       "7132   1150000                  NaN      7.0         500          3+    NaN   \n",
       "8550    360000                200.0      6.0         230           1  S - T   \n",
       "8555   1800000                  NaN     20.0         648          3+  8 - 9   \n",
       "13050  1900000                  NaN     10.0       1.575         NaN    NaN   \n",
       "13567  4300000                  NaN     15.0         752          3+  S - 4   \n",
       "\n",
       "       floor_2  tot_floors  parking  year_construction         status  \\\n",
       "4242       5.0         5.0        0             1800.0          Buono   \n",
       "7132       NaN         1.0        2             1950.0          Buono   \n",
       "8550       NaN         3.0        1             1920.0  Ristrutturare   \n",
       "8555       NaN         9.0        2             2020.0          Nuovo   \n",
       "13050      NaN         1.0        1                NaN          Buono   \n",
       "13567      NaN         4.0        2             2008.0         Ottimo   \n",
       "\n",
       "             heating energy_efficiency    city     neighborhood  \\\n",
       "4242   Centralizzato                 G  Milano        Montenero   \n",
       "7132        Autonomo                 G  Milano    Porta Venezia   \n",
       "8550             NaN                 G  Milano  Greco - Segnano   \n",
       "8555        Autonomo                A+  Milano      Gallaratese   \n",
       "13050       Autonomo               NaN  Milano      Gallaratese   \n",
       "13567       Autonomo                 C  Milano         San Siro   \n",
       "\n",
       "                              adress            latitude           longitude  \n",
       "4242   Via Amatore Antonio Sciesa, 1  45.461799999999997              9.2096  \n",
       "7132             via vittorio veneto  45.476599999999998  9.2012900000000002  \n",
       "8550           Via Comune Antico, 11              45.503  9.2094000000000005  \n",
       "8555                      Via Cefalù  45.502000000000002  9.1153999999999993  \n",
       "13050                  Via Gallarate  45.500999999999998              9.1212  \n",
       "13567                Via dei Sagredo  45.476500000000001  9.1303000000000001  "
      ]
     },
     "execution_count": 314,
     "metadata": {},
     "output_type": "execute_result"
    }
   ],
   "source": [
    "df_clean[df_clean['n_rooms']>5]"
   ]
  },
  {
   "cell_type": "markdown",
   "metadata": {},
   "source": [
    "We can suppose that the entries are correct because the apartments with more than 5 rooms have also a wide surface and high price"
   ]
  },
  {
   "cell_type": "markdown",
   "metadata": {},
   "source": [
    "Now we investigate if there is some erroneous values. If all is correct, we will have integer values between 1 and 20"
   ]
  },
  {
   "cell_type": "code",
   "execution_count": 315,
   "metadata": {},
   "outputs": [
    {
     "data": {
      "text/plain": [
       "array([ 3.,  2.,  4., nan,  1.,  5.,  6.,  7., 20., 10., 15.])"
      ]
     },
     "execution_count": 315,
     "metadata": {},
     "output_type": "execute_result"
    }
   ],
   "source": [
    "df_clean['n_rooms'].unique()"
   ]
  },
  {
   "cell_type": "markdown",
   "metadata": {},
   "source": [
    "As you can see everething is correct"
   ]
  },
  {
   "cell_type": "code",
   "execution_count": 316,
   "metadata": {},
   "outputs": [
    {
     "data": {
      "text/plain": [
       "<matplotlib.axes._subplots.AxesSubplot at 0x2cb77342188>"
      ]
     },
     "execution_count": 316,
     "metadata": {},
     "output_type": "execute_result"
    },
    {
     "data": {
      "image/png": "[encoded data removed]",
      "text/plain": [
       "<Figure size 432x288 with 1 Axes>"
      ]
     },
     "metadata": {
      "needs_background": "light"
     },
     "output_type": "display_data"
    }
   ],
   "source": [
    "sns.distplot(df_clean['n_rooms'], kde = False, color = 'b', hist_kws={'alpha': 0.9})"
   ]
  },
  {
   "cell_type": "code",
   "execution_count": 317,
   "metadata": {},
   "outputs": [
    {
     "data": {
      "image/png": "[encoded data removed]",
      "text/plain": [
       "<Figure size 432x288 with 1 Axes>"
      ]
     },
     "metadata": {
      "needs_background": "light"
     },
     "output_type": "display_data"
    }
   ],
   "source": [
    "plt.boxplot(df_clean['n_rooms'][df_clean['n_rooms'].notna()]);"
   ]
  },
  {
   "cell_type": "markdown",
   "metadata": {},
   "source": [
    "# V) surface_sqm Column"
   ]
  },
  {
   "cell_type": "code",
   "execution_count": 318,
   "metadata": {},
   "outputs": [
    {
     "data": {
      "text/plain": [
       "0        105\n",
       "1         57\n",
       "2         60\n",
       "3        135\n",
       "4         95\n",
       "        ... \n",
       "14675    105\n",
       "14676    404\n",
       "14677     40\n",
       "14678     80\n",
       "14679    120\n",
       "Name: surface_sqm, Length: 12558, dtype: object"
      ]
     },
     "execution_count": 318,
     "metadata": {},
     "output_type": "execute_result"
    }
   ],
   "source": [
    "df_clean['surface_sqm']"
   ]
  },
  {
   "cell_type": "markdown",
   "metadata": {},
   "source": [
    "Because the dtype is object there have to be some non numeric values. we can start investigating if there is the m^2 string next to some numeric values"
   ]
  },
  {
   "cell_type": "code",
   "execution_count": 319,
   "metadata": {},
   "outputs": [
    {
     "data": {
      "text/plain": [
       "169               88 m² | commerciale 90\n",
       "552             170 m² | commerciale 179\n",
       "973               57 m² | commerciale 60\n",
       "996               73 m² | commerciale 80\n",
       "1120            140 m² | commerciale 147\n",
       "                      ...               \n",
       "14485           330 m² | commerciale 348\n",
       "14550             46 m² | commerciale 62\n",
       "14560             48 m² | commerciale 55\n",
       "14571           300 m² | commerciale 324\n",
       "14637    122 m², terreno di proprietà 22\n",
       "Name: surface_sqm, Length: 266, dtype: object"
      ]
     },
     "execution_count": 319,
     "metadata": {},
     "output_type": "execute_result"
    }
   ],
   "source": [
    "df_clean['surface_sqm'][df_clean['surface_sqm'].str.contains('m',na=False)] #na=False because there are some nan values"
   ]
  },
  {
   "cell_type": "code",
   "execution_count": 320,
   "metadata": {},
   "outputs": [],
   "source": [
    "regex = r'^(.*)\\sm'"
   ]
  },
  {
   "cell_type": "code",
   "execution_count": 321,
   "metadata": {},
   "outputs": [],
   "source": [
    "regex_df=pd.DataFrame(df_clean['surface_sqm'][df_clean['surface_sqm'].str.contains('m',na=False)].str.extract(regex,expand=False))"
   ]
  },
  {
   "cell_type": "code",
   "execution_count": 322,
   "metadata": {},
   "outputs": [
    {
     "data": {
      "text/html": [
       "<div>\n",
       "<style scoped>\n",
       "    .dataframe tbody tr th:only-of-type {\n",
       "        vertical-align: middle;\n",
       "    }\n",
       "\n",
       "    .dataframe tbody tr th {\n",
       "        vertical-align: top;\n",
       "    }\n",
       "\n",
       "    .dataframe thead th {\n",
       "        text-align: right;\n",
       "    }\n",
       "</style>\n",
       "<table border=\"1\" class=\"dataframe\">\n",
       "  <thead>\n",
       "    <tr style=\"text-align: right;\">\n",
       "      <th></th>\n",
       "      <th>surface_sqm</th>\n",
       "    </tr>\n",
       "  </thead>\n",
       "  <tbody>\n",
       "    <tr>\n",
       "      <th>169</th>\n",
       "      <td>88</td>\n",
       "    </tr>\n",
       "    <tr>\n",
       "      <th>552</th>\n",
       "      <td>170</td>\n",
       "    </tr>\n",
       "    <tr>\n",
       "      <th>973</th>\n",
       "      <td>57</td>\n",
       "    </tr>\n",
       "    <tr>\n",
       "      <th>996</th>\n",
       "      <td>73</td>\n",
       "    </tr>\n",
       "    <tr>\n",
       "      <th>1120</th>\n",
       "      <td>140</td>\n",
       "    </tr>\n",
       "  </tbody>\n",
       "</table>\n",
       "</div>"
      ],
      "text/plain": [
       "     surface_sqm\n",
       "169           88\n",
       "552          170\n",
       "973           57\n",
       "996           73\n",
       "1120         140"
      ]
     },
     "execution_count": 322,
     "metadata": {},
     "output_type": "execute_result"
    }
   ],
   "source": [
    "regex_df.head()"
   ]
  },
  {
   "cell_type": "code",
   "execution_count": 323,
   "metadata": {},
   "outputs": [],
   "source": [
    "#replace the original value with the new extracted\n",
    "df_clean.update(regex_df)"
   ]
  },
  {
   "cell_type": "markdown",
   "metadata": {},
   "source": [
    "Now we convert it into numerical values"
   ]
  },
  {
   "cell_type": "code",
   "execution_count": 324,
   "metadata": {},
   "outputs": [],
   "source": [
    "df_clean['surface_sqm'] = pd.to_numeric(df_clean['surface_sqm'])"
   ]
  },
  {
   "cell_type": "code",
   "execution_count": 325,
   "metadata": {},
   "outputs": [
    {
     "data": {
      "text/plain": [
       "0        105.0\n",
       "1         57.0\n",
       "2         60.0\n",
       "3        135.0\n",
       "4         95.0\n",
       "         ...  \n",
       "14675    105.0\n",
       "14676    404.0\n",
       "14677     40.0\n",
       "14678     80.0\n",
       "14679    120.0\n",
       "Name: surface_sqm, Length: 12558, dtype: float64"
      ]
     },
     "execution_count": 325,
     "metadata": {},
     "output_type": "execute_result"
    }
   ],
   "source": [
    "df_clean['surface_sqm']"
   ]
  },
  {
   "cell_type": "code",
   "execution_count": 326,
   "metadata": {},
   "outputs": [
    {
     "data": {
      "text/plain": [
       "count    12528.000000\n",
       "mean        98.601400\n",
       "std         72.326527\n",
       "min          1.000000\n",
       "25%         55.000000\n",
       "50%         80.000000\n",
       "75%        116.000000\n",
       "90%        170.000000\n",
       "95%        222.650000\n",
       "99%        379.460000\n",
       "max        950.000000\n",
       "Name: surface_sqm, dtype: float64"
      ]
     },
     "execution_count": 326,
     "metadata": {},
     "output_type": "execute_result"
    }
   ],
   "source": [
    "df_clean['surface_sqm'].describe(percentiles =[.25,.5,.75,.9,.95,.99])"
   ]
  },
  {
   "cell_type": "code",
   "execution_count": 327,
   "metadata": {},
   "outputs": [
    {
     "data": {
      "text/plain": [
       "<matplotlib.axes._subplots.AxesSubplot at 0x2cb77c439c8>"
      ]
     },
     "execution_count": 327,
     "metadata": {},
     "output_type": "execute_result"
    },
    {
     "data": {
      "image/png": "[encoded data removed]",
      "text/plain": [
       "<Figure size 432x288 with 1 Axes>"
      ]
     },
     "metadata": {
      "needs_background": "light"
     },
     "output_type": "display_data"
    }
   ],
   "source": [
    "sns.distplot(df_clean['surface_sqm'], kde = False, color = 'b', hist_kws={'alpha': 0.9})"
   ]
  },
  {
   "cell_type": "code",
   "execution_count": 328,
   "metadata": {},
   "outputs": [
    {
     "data": {
      "image/png": "[encoded data removed]",
      "text/plain": [
       "<Figure size 432x288 with 1 Axes>"
      ]
     },
     "metadata": {
      "needs_background": "light"
     },
     "output_type": "display_data"
    }
   ],
   "source": [
    "plt.boxplot(df_clean['surface_sqm'][df_clean['surface_sqm'].notna()]);"
   ]
  },
  {
   "cell_type": "markdown",
   "metadata": {},
   "source": [
    "# 6) n_bathrooms Column"
   ]
  },
  {
   "cell_type": "code",
   "execution_count": 329,
   "metadata": {},
   "outputs": [
    {
     "data": {
      "text/plain": [
       "(12558, 18)"
      ]
     },
     "execution_count": 329,
     "metadata": {},
     "output_type": "execute_result"
    }
   ],
   "source": [
    "df_clean.shape"
   ]
  },
  {
   "cell_type": "markdown",
   "metadata": {},
   "source": [
    "First we investigate the dtype of the column"
   ]
  },
  {
   "cell_type": "code",
   "execution_count": 331,
   "metadata": {},
   "outputs": [
    {
     "data": {
      "text/plain": [
       "0         2\n",
       "1         1\n",
       "2         1\n",
       "3         2\n",
       "4         1\n",
       "         ..\n",
       "14675     1\n",
       "14676    3+\n",
       "14677     1\n",
       "14678     1\n",
       "14679     2\n",
       "Name: n_bathrooms, Length: 12558, dtype: object"
      ]
     },
     "execution_count": 331,
     "metadata": {},
     "output_type": "execute_result"
    }
   ],
   "source": [
    "df_clean['n_bathrooms']"
   ]
  },
  {
   "cell_type": "markdown",
   "metadata": {},
   "source": [
    "As you can see, the dtype is an object so we have to check what kind of characters are present into each value entry."
   ]
  },
  {
   "cell_type": "code",
   "execution_count": 333,
   "metadata": {},
   "outputs": [
    {
     "data": {
      "text/plain": [
       "Series([], Name: n_bathrooms, dtype: object)"
      ]
     },
     "execution_count": 333,
     "metadata": {},
     "output_type": "execute_result"
    }
   ],
   "source": [
    "# First we investigate about alpha characters\n",
    "df_clean['n_bathrooms'][df_clean['n_bathrooms'].str.contains('[a-z]',na=False)] "
   ]
  },
  {
   "cell_type": "markdown",
   "metadata": {},
   "source": [
    "There aren't alpha characters into the column"
   ]
  },
  {
   "cell_type": "code",
   "execution_count": 334,
   "metadata": {},
   "outputs": [
    {
     "data": {
      "text/plain": [
       "69       3+\n",
       "70       3+\n",
       "92       3+\n",
       "102      3+\n",
       "195      3+\n",
       "         ..\n",
       "14599    3+\n",
       "14622    3+\n",
       "14655    3+\n",
       "14660    3+\n",
       "14676    3+\n",
       "Name: n_bathrooms, Length: 303, dtype: object"
      ]
     },
     "execution_count": 334,
     "metadata": {},
     "output_type": "execute_result"
    }
   ],
   "source": [
    "# now searching for the presence of symbols (no alphanumeric characters \\W)\n",
    "df_clean['n_bathrooms'][df_clean['n_bathrooms'].str.contains('\\W',na=False)] "
   ]
  },
  {
   "cell_type": "code",
   "execution_count": 335,
   "metadata": {},
   "outputs": [
    {
     "data": {
      "text/plain": [
       "69       3+\n",
       "70       3+\n",
       "92       3+\n",
       "102      3+\n",
       "195      3+\n",
       "         ..\n",
       "14599    3+\n",
       "14622    3+\n",
       "14655    3+\n",
       "14660    3+\n",
       "14676    3+\n",
       "Name: n_bathrooms, Length: 303, dtype: object"
      ]
     },
     "execution_count": 335,
     "metadata": {},
     "output_type": "execute_result"
    }
   ],
   "source": [
    "df_clean['n_bathrooms'][df_clean['n_bathrooms'].str.contains('3\\+',na=False)]"
   ]
  },
  {
   "cell_type": "markdown",
   "metadata": {},
   "source": [
    "There are 303 values with symbols and all corresponds to '3+' indicating the presence of more of 3 bathrooms into the apartament. because we can't use symbols in a machine learnig model, we replace this with '4'"
   ]
  },
  {
   "cell_type": "code",
   "execution_count": 337,
   "metadata": {},
   "outputs": [],
   "source": [
    "df_clean['n_bathrooms'].replace('3+','4',inplace=True)"
   ]
  },
  {
   "cell_type": "markdown",
   "metadata": {},
   "source": [
    "Now we convert the dtype in numerical values"
   ]
  },
  {
   "cell_type": "code",
   "execution_count": 339,
   "metadata": {},
   "outputs": [],
   "source": [
    "df_clean['n_bathrooms'] = pd.to_numeric(df_clean['n_bathrooms'])"
   ]
  },
  {
   "cell_type": "code",
   "execution_count": 340,
   "metadata": {},
   "outputs": [
    {
     "data": {
      "text/plain": [
       "count    12324.000000\n",
       "mean         1.452532\n",
       "std          0.719717\n",
       "min          1.000000\n",
       "25%          1.000000\n",
       "50%          1.000000\n",
       "75%          2.000000\n",
       "90%          2.000000\n",
       "95%          3.000000\n",
       "99%          4.000000\n",
       "max          4.000000\n",
       "Name: n_bathrooms, dtype: float64"
      ]
     },
     "execution_count": 340,
     "metadata": {},
     "output_type": "execute_result"
    }
   ],
   "source": [
    "df_clean['n_bathrooms'].describe(percentiles=[.25,.5,.75,.9,.95,.99])"
   ]
  },
  {
   "cell_type": "code",
   "execution_count": 341,
   "metadata": {},
   "outputs": [
    {
     "data": {
      "text/plain": [
       "<matplotlib.axes._subplots.AxesSubplot at 0x2cb782f81c8>"
      ]
     },
     "execution_count": 341,
     "metadata": {},
     "output_type": "execute_result"
    },
    {
     "data": {
      "image/png": "[encoded data removed]",
      "text/plain": [
       "<Figure size 432x288 with 1 Axes>"
      ]
     },
     "metadata": {
      "needs_background": "light"
     },
     "output_type": "display_data"
    }
   ],
   "source": [
    "sns.distplot(df_clean['n_bathrooms'], kde = False, color = 'b', hist_kws={'alpha': 0.9})"
   ]
  },
  {
   "cell_type": "markdown",
   "metadata": {},
   "source": [
    "# 7) floor_2 Column"
   ]
  },
  {
   "cell_type": "markdown",
   "metadata": {},
   "source": [
    "We have webscraping the floor information with 2 methods but the more correct one is the floor_2 column. The only problem with this code is that it takes only digit values, so we want to retain all the digits of this column and replace nan values with the letters or floor in format of range #-# like (8-9) from the column floor."
   ]
  },
  {
   "cell_type": "code",
   "execution_count": 342,
   "metadata": {},
   "outputs": [
    {
     "data": {
      "text/plain": [
       "6            R\n",
       "10           T\n",
       "12           R\n",
       "17           T\n",
       "19           R\n",
       "         ...  \n",
       "14644        T\n",
       "14656        R\n",
       "14662    S - T\n",
       "14667        T\n",
       "14676        A\n",
       "Name: floor, Length: 3444, dtype: object"
      ]
     },
     "execution_count": 342,
     "metadata": {},
     "output_type": "execute_result"
    }
   ],
   "source": [
    "df_clean['floor'][df_clean['floor'].str.contains('[A-Z]',na=False)]"
   ]
  },
  {
   "cell_type": "code",
   "execution_count": 343,
   "metadata": {},
   "outputs": [],
   "source": [
    "df_clean['floor_2']=np.where((df_clean['floor_2'].isnull()) & (df_clean['floor'].str.contains('[A-Z]',na=False)),\n",
    "                                          df_clean['floor'],df_clean['floor_2'])"
   ]
  },
  {
   "cell_type": "markdown",
   "metadata": {},
   "source": [
    "Now we are going to include the range of numbers where the floor_2 column have 'nan' values"
   ]
  },
  {
   "cell_type": "code",
   "execution_count": 349,
   "metadata": {},
   "outputs": [],
   "source": [
    "df_clean['floor_2']=np.where((df_clean['floor_2'].isnull()) & (df_clean['floor'].str.contains(r'\\d\\s\\-\\s\\d',na=False)),\n",
    "                                          df_clean['floor'],df_clean['floor_2'])"
   ]
  },
  {
   "cell_type": "code",
   "execution_count": 351,
   "metadata": {},
   "outputs": [
    {
     "data": {
      "text/plain": [
       "array([2.0, 1.0, 'R', 5.0, 4.0, 'T', 6.0, 'S', 3.0, 7.0, 'T - 9', nan,\n",
       "       8.0, 9.0, 'S - 1', 'S - 5', 'S - T', 'S - R', 'T - 4', 'T - 3',\n",
       "       '1 - 2', '2 - 3', 'T - R', 'S - 2', 16.0, '8 - 9', '5 - 6',\n",
       "       'T - 1', '4 - 5', 'S - 4', '3 - 4', '6 - 7', 10.0, 'S - 3',\n",
       "       'T - 2', 11.0, 'R - 2', '7 - 8', 'S - 7', '9 - 10', 14.0, 'S - 8',\n",
       "       'T - 5', 25.0, 12.0, 13.0, '1 - 4', 'S - 6', 'R - 7', '2 - 4',\n",
       "       19.0, 'S - 9', '1 - 3', 'R - 9', 'R - 1', 'R - 3', 'S - 10', 15.0,\n",
       "       '4 - 6', 18.0, 'T - 8', 'T - 7', 'A', 'M', 17.0, 22.0, '6 - 8',\n",
       "       'T - A'], dtype=object)"
      ]
     },
     "execution_count": 351,
     "metadata": {},
     "output_type": "execute_result"
    }
   ],
   "source": [
    "df_clean['floor_2'].unique()"
   ]
  },
  {
   "cell_type": "markdown",
   "metadata": {},
   "source": [
    "Now, in all range values we retain only the last value"
   ]
  },
  {
   "cell_type": "code",
   "execution_count": 354,
   "metadata": {},
   "outputs": [],
   "source": [
    "regex_df=pd.DataFrame(df_clean['floor_2'][df_clean['floor_2'].str.contains('-',na=False)].str.extract(r'^\\w\\s\\-\\s(\\w)',expand=False))\n",
    "df_clean.update(regex_df)"
   ]
  },
  {
   "cell_type": "code",
   "execution_count": 355,
   "metadata": {},
   "outputs": [
    {
     "data": {
      "text/plain": [
       "array([2.0, 1.0, 'R', 5.0, 4.0, 'T', 6.0, 'S', 3.0, 7.0, '9', nan, 8.0,\n",
       "       9.0, '1', '5', '4', '3', '2', 16.0, '6', '7', 10.0, 11.0, '8',\n",
       "       14.0, 25.0, 12.0, 13.0, 19.0, 15.0, 18.0, 'A', 'M', 17.0, 22.0],\n",
       "      dtype=object)"
      ]
     },
     "execution_count": 355,
     "metadata": {},
     "output_type": "execute_result"
    }
   ],
   "source": [
    "df_clean['floor_2'].unique()"
   ]
  },
  {
   "cell_type": "markdown",
   "metadata": {},
   "source": [
    "Now we don't need more the floor column so we can drop it."
   ]
  },
  {
   "cell_type": "code",
   "execution_count": 356,
   "metadata": {},
   "outputs": [],
   "source": [
    "df_clean.drop('floor',axis=1,inplace=True)"
   ]
  },
  {
   "cell_type": "code",
   "execution_count": 357,
   "metadata": {},
   "outputs": [
    {
     "data": {
      "text/plain": [
       "(12558, 17)"
      ]
     },
     "execution_count": 357,
     "metadata": {},
     "output_type": "execute_result"
    }
   ],
   "source": [
    "df_clean.shape"
   ]
  },
  {
   "cell_type": "markdown",
   "metadata": {},
   "source": [
    "Now we investigate about the floor letters character and replace with a digit"
   ]
  },
  {
   "cell_type": "code",
   "execution_count": 358,
   "metadata": {},
   "outputs": [
    {
     "data": {
      "text/plain": [
       "array([2.0, 1.0, 'R', 5.0, 4.0, 'T', 6.0, 'S', 3.0, 7.0, '9', nan, 8.0,\n",
       "       9.0, '1', '5', '4', '3', '2', 16.0, '6', '7', 10.0, 11.0, '8',\n",
       "       14.0, 25.0, 12.0, 13.0, 19.0, 15.0, 18.0, 'A', 'M', 17.0, 22.0],\n",
       "      dtype=object)"
      ]
     },
     "execution_count": 358,
     "metadata": {},
     "output_type": "execute_result"
    }
   ],
   "source": [
    "df_clean['floor_2'].unique()"
   ]
  },
  {
   "cell_type": "markdown",
   "metadata": {},
   "source": [
    "- T = Ground floor: we replace it with 0\n",
    "- R = Mezzanine floor: we replace it with 0\n",
    "- S = Basement Floor: we replace it with 0\n",
    "- A = Attic: we replace it with the value of tot_floor column\n",
    "- M: we replace it with 0"
   ]
  },
  {
   "cell_type": "code",
   "execution_count": 363,
   "metadata": {},
   "outputs": [],
   "source": [
    "df_clean['floor_2'].replace({'T':'0','R':'0','S':'0','M':'0'},inplace=True)"
   ]
  },
  {
   "cell_type": "markdown",
   "metadata": {},
   "source": [
    "Regarding the 'A' convertion, we are going to replace it with the number indicated in the total floor of the building if the value is not na"
   ]
  },
  {
   "cell_type": "code",
   "execution_count": 364,
   "metadata": {},
   "outputs": [],
   "source": [
    "df_clean['floor_2']=np.where((df_clean['tot_floors'].notna()) & (df_clean['floor_2'].str.contains('A',na=False)),\n",
    "                                          df_clean['tot_floors'],df_clean['floor_2'])"
   ]
  },
  {
   "cell_type": "code",
   "execution_count": 366,
   "metadata": {},
   "outputs": [
    {
     "data": {
      "text/html": [
       "<div>\n",
       "<style scoped>\n",
       "    .dataframe tbody tr th:only-of-type {\n",
       "        vertical-align: middle;\n",
       "    }\n",
       "\n",
       "    .dataframe tbody tr th {\n",
       "        vertical-align: top;\n",
       "    }\n",
       "\n",
       "    .dataframe thead th {\n",
       "        text-align: right;\n",
       "    }\n",
       "</style>\n",
       "<table border=\"1\" class=\"dataframe\">\n",
       "  <thead>\n",
       "    <tr style=\"text-align: right;\">\n",
       "      <th></th>\n",
       "      <th>price_€</th>\n",
       "      <th>building_fees_month</th>\n",
       "      <th>n_rooms</th>\n",
       "      <th>surface_sqm</th>\n",
       "      <th>n_bathrooms</th>\n",
       "      <th>floor_2</th>\n",
       "      <th>tot_floors</th>\n",
       "      <th>parking</th>\n",
       "      <th>year_construction</th>\n",
       "      <th>status</th>\n",
       "      <th>heating</th>\n",
       "      <th>energy_efficiency</th>\n",
       "      <th>city</th>\n",
       "      <th>neighborhood</th>\n",
       "      <th>adress</th>\n",
       "      <th>latitude</th>\n",
       "      <th>longitude</th>\n",
       "    </tr>\n",
       "  </thead>\n",
       "  <tbody>\n",
       "  </tbody>\n",
       "</table>\n",
       "</div>"
      ],
      "text/plain": [
       "Empty DataFrame\n",
       "Columns: [price_€, building_fees_month, n_rooms, surface_sqm, n_bathrooms, floor_2, tot_floors, parking, year_construction, status, heating, energy_efficiency, city, neighborhood, adress, latitude, longitude]\n",
       "Index: []"
      ]
     },
     "execution_count": 366,
     "metadata": {},
     "output_type": "execute_result"
    }
   ],
   "source": [
    "df_clean[df_clean['floor_2'].str.contains('A',na=False)]"
   ]
  },
  {
   "cell_type": "code",
   "execution_count": 367,
   "metadata": {},
   "outputs": [
    {
     "data": {
      "text/plain": [
       "array([2.0, 1.0, '0', 5.0, 4.0, 6.0, 3.0, 7.0, '9', nan, 8.0, 9.0, '1',\n",
       "       '5', '4', '3', '2', 16.0, '6', '7', 10.0, 11.0, '8', 14.0, 25.0,\n",
       "       12.0, 13.0, 19.0, 15.0, 18.0, 17.0, 22.0], dtype=object)"
      ]
     },
     "execution_count": 367,
     "metadata": {},
     "output_type": "execute_result"
    }
   ],
   "source": [
    "df_clean['floor_2'].unique()"
   ]
  },
  {
   "cell_type": "markdown",
   "metadata": {},
   "source": [
    "We convert the column into numerical characters"
   ]
  },
  {
   "cell_type": "code",
   "execution_count": 368,
   "metadata": {},
   "outputs": [],
   "source": [
    "df_clean['floor_2'] = pd.to_numeric(df_clean['floor_2'])"
   ]
  },
  {
   "cell_type": "code",
   "execution_count": 369,
   "metadata": {},
   "outputs": [
    {
     "data": {
      "text/plain": [
       "price_€                   0\n",
       "building_fees_month    2503\n",
       "n_rooms                 610\n",
       "surface_sqm              30\n",
       "n_bathrooms             234\n",
       "floor_2                 411\n",
       "tot_floors              609\n",
       "parking                   0\n",
       "year_construction      1745\n",
       "status                    0\n",
       "heating                 435\n",
       "energy_efficiency      1539\n",
       "city                    222\n",
       "neighborhood           1024\n",
       "adress                 1024\n",
       "latitude                 16\n",
       "longitude                16\n",
       "dtype: int64"
      ]
     },
     "execution_count": 369,
     "metadata": {},
     "output_type": "execute_result"
    }
   ],
   "source": [
    "df_clean.isnull().sum()"
   ]
  },
  {
   "cell_type": "markdown",
   "metadata": {},
   "source": [
    "# 8) tot_floors Column"
   ]
  },
  {
   "cell_type": "markdown",
   "metadata": {},
   "source": [
    "First we are going to examine the dtype"
   ]
  },
  {
   "cell_type": "code",
   "execution_count": 370,
   "metadata": {},
   "outputs": [
    {
     "data": {
      "text/plain": [
       "0        3.0\n",
       "1        7.0\n",
       "2        3.0\n",
       "3        8.0\n",
       "4        7.0\n",
       "        ... \n",
       "14675    NaN\n",
       "14676    7.0\n",
       "14677    5.0\n",
       "14678    5.0\n",
       "14679    8.0\n",
       "Name: tot_floors, Length: 12558, dtype: float64"
      ]
     },
     "execution_count": 370,
     "metadata": {},
     "output_type": "execute_result"
    }
   ],
   "source": [
    "df_clean['tot_floors']"
   ]
  },
  {
   "cell_type": "markdown",
   "metadata": {},
   "source": [
    "As you can see, the dtype is float so the correct format. Now we need to explore the distribution of the values to check if there are some outliers."
   ]
  },
  {
   "cell_type": "code",
   "execution_count": 371,
   "metadata": {},
   "outputs": [
    {
     "data": {
      "text/plain": [
       "<matplotlib.axes._subplots.AxesSubplot at 0x2cb78333b88>"
      ]
     },
     "execution_count": 371,
     "metadata": {},
     "output_type": "execute_result"
    },
    {
     "data": {
      "image/png": "[encoded data removed]",
      "text/plain": [
       "<Figure size 432x288 with 1 Axes>"
      ]
     },
     "metadata": {
      "needs_background": "light"
     },
     "output_type": "display_data"
    }
   ],
   "source": [
    "sns.distplot(df_clean['tot_floors'], kde = False, color = 'b', hist_kws={'alpha': 0.9})"
   ]
  },
  {
   "cell_type": "code",
   "execution_count": 372,
   "metadata": {},
   "outputs": [
    {
     "data": {
      "text/plain": [
       "count    11949.000000\n",
       "mean         5.295757\n",
       "std          3.082028\n",
       "min          1.000000\n",
       "25%          4.000000\n",
       "50%          5.000000\n",
       "75%          7.000000\n",
       "90%          8.000000\n",
       "95%          9.000000\n",
       "99.9%       25.052000\n",
       "max        175.000000\n",
       "Name: tot_floors, dtype: float64"
      ]
     },
     "execution_count": 372,
     "metadata": {},
     "output_type": "execute_result"
    }
   ],
   "source": [
    "df_clean['tot_floors'].describe(percentiles=[.25,.50,.75,.90,.95,.999])"
   ]
  },
  {
   "cell_type": "markdown",
   "metadata": {},
   "source": [
    "Because the 99.9% of the apartments have less than 26 floor we want manually investigate apartments > 26"
   ]
  },
  {
   "cell_type": "code",
   "execution_count": 374,
   "metadata": {},
   "outputs": [
    {
     "data": {
      "text/html": [
       "<div>\n",
       "<style scoped>\n",
       "    .dataframe tbody tr th:only-of-type {\n",
       "        vertical-align: middle;\n",
       "    }\n",
       "\n",
       "    .dataframe tbody tr th {\n",
       "        vertical-align: top;\n",
       "    }\n",
       "\n",
       "    .dataframe thead th {\n",
       "        text-align: right;\n",
       "    }\n",
       "</style>\n",
       "<table border=\"1\" class=\"dataframe\">\n",
       "  <thead>\n",
       "    <tr style=\"text-align: right;\">\n",
       "      <th></th>\n",
       "      <th>price_€</th>\n",
       "      <th>building_fees_month</th>\n",
       "      <th>n_rooms</th>\n",
       "      <th>surface_sqm</th>\n",
       "      <th>n_bathrooms</th>\n",
       "      <th>floor_2</th>\n",
       "      <th>tot_floors</th>\n",
       "      <th>parking</th>\n",
       "      <th>year_construction</th>\n",
       "      <th>status</th>\n",
       "      <th>heating</th>\n",
       "      <th>energy_efficiency</th>\n",
       "      <th>city</th>\n",
       "      <th>neighborhood</th>\n",
       "      <th>adress</th>\n",
       "      <th>latitude</th>\n",
       "      <th>longitude</th>\n",
       "    </tr>\n",
       "  </thead>\n",
       "  <tbody>\n",
       "    <tr>\n",
       "      <th>7861</th>\n",
       "      <td>4100000</td>\n",
       "      <td>1.0</td>\n",
       "      <td>NaN</td>\n",
       "      <td>410.0</td>\n",
       "      <td>4.0</td>\n",
       "      <td>10.0</td>\n",
       "      <td>29.0</td>\n",
       "      <td>1</td>\n",
       "      <td>1950.0</td>\n",
       "      <td>Ottimo</td>\n",
       "      <td>Centralizzato</td>\n",
       "      <td>E</td>\n",
       "      <td>Milano</td>\n",
       "      <td>Repubblica</td>\n",
       "      <td>Piazza della Repubblica</td>\n",
       "      <td>45.479900000000001</td>\n",
       "      <td>9.1990999999999996</td>\n",
       "    </tr>\n",
       "    <tr>\n",
       "      <th>9929</th>\n",
       "      <td>1650000</td>\n",
       "      <td>NaN</td>\n",
       "      <td>4.0</td>\n",
       "      <td>150.0</td>\n",
       "      <td>2.0</td>\n",
       "      <td>2.0</td>\n",
       "      <td>34.0</td>\n",
       "      <td>1</td>\n",
       "      <td>2000.0</td>\n",
       "      <td>Ottimo</td>\n",
       "      <td>Autonomo</td>\n",
       "      <td>A+</td>\n",
       "      <td>Milano</td>\n",
       "      <td>Melchiorre Gioia</td>\n",
       "      <td>Viale della Liberazione</td>\n",
       "      <td>45.482599999999998</td>\n",
       "      <td>9.1940000000000008</td>\n",
       "    </tr>\n",
       "    <tr>\n",
       "      <th>10239</th>\n",
       "      <td>1650000</td>\n",
       "      <td>NaN</td>\n",
       "      <td>4.0</td>\n",
       "      <td>150.0</td>\n",
       "      <td>2.0</td>\n",
       "      <td>2.0</td>\n",
       "      <td>34.0</td>\n",
       "      <td>1</td>\n",
       "      <td>2000.0</td>\n",
       "      <td>Ottimo</td>\n",
       "      <td>Autonomo</td>\n",
       "      <td>A+</td>\n",
       "      <td>Milano</td>\n",
       "      <td>Melchiorre Gioia</td>\n",
       "      <td>Viale della Liberazione</td>\n",
       "      <td>45.482599999999998</td>\n",
       "      <td>9.1940000000000008</td>\n",
       "    </tr>\n",
       "    <tr>\n",
       "      <th>13464</th>\n",
       "      <td>820000</td>\n",
       "      <td>NaN</td>\n",
       "      <td>5.0</td>\n",
       "      <td>308.0</td>\n",
       "      <td>3.0</td>\n",
       "      <td>0.0</td>\n",
       "      <td>175.0</td>\n",
       "      <td>5</td>\n",
       "      <td>1950.0</td>\n",
       "      <td>Ottimo</td>\n",
       "      <td>Autonomo</td>\n",
       "      <td>C</td>\n",
       "      <td>Milano</td>\n",
       "      <td>Argonne - Corsica</td>\n",
       "      <td>Via Umberto Masotto, 21</td>\n",
       "      <td>45.467100000000002</td>\n",
       "      <td>9.2331000000000003</td>\n",
       "    </tr>\n",
       "    <tr>\n",
       "      <th>13540</th>\n",
       "      <td>4000000</td>\n",
       "      <td>NaN</td>\n",
       "      <td>NaN</td>\n",
       "      <td>435.0</td>\n",
       "      <td>4.0</td>\n",
       "      <td>14.0</td>\n",
       "      <td>31.0</td>\n",
       "      <td>1</td>\n",
       "      <td>1950.0</td>\n",
       "      <td>Buono</td>\n",
       "      <td>Centralizzato</td>\n",
       "      <td>NaN</td>\n",
       "      <td>Milano</td>\n",
       "      <td>Repubblica</td>\n",
       "      <td>Via Vittor Pisani, 2</td>\n",
       "      <td>45.480400000000003</td>\n",
       "      <td>9.1994000000000007</td>\n",
       "    </tr>\n",
       "    <tr>\n",
       "      <th>13614</th>\n",
       "      <td>3550000</td>\n",
       "      <td>1.0</td>\n",
       "      <td>4.0</td>\n",
       "      <td>315.0</td>\n",
       "      <td>3.0</td>\n",
       "      <td>8.0</td>\n",
       "      <td>56.0</td>\n",
       "      <td>1</td>\n",
       "      <td>2019.0</td>\n",
       "      <td>Nuovo</td>\n",
       "      <td>Centralizzato</td>\n",
       "      <td>A</td>\n",
       "      <td>Palestro</td>\n",
       "      <td>NaN</td>\n",
       "      <td>NaN</td>\n",
       "      <td>45.465800000000002</td>\n",
       "      <td>9.2028999999999996</td>\n",
       "    </tr>\n",
       "  </tbody>\n",
       "</table>\n",
       "</div>"
      ],
      "text/plain": [
       "       price_€  building_fees_month  n_rooms  surface_sqm  n_bathrooms  \\\n",
       "7861   4100000                  1.0      NaN        410.0          4.0   \n",
       "9929   1650000                  NaN      4.0        150.0          2.0   \n",
       "10239  1650000                  NaN      4.0        150.0          2.0   \n",
       "13464   820000                  NaN      5.0        308.0          3.0   \n",
       "13540  4000000                  NaN      NaN        435.0          4.0   \n",
       "13614  3550000                  1.0      4.0        315.0          3.0   \n",
       "\n",
       "       floor_2  tot_floors  parking  year_construction  status        heating  \\\n",
       "7861      10.0        29.0        1             1950.0  Ottimo  Centralizzato   \n",
       "9929       2.0        34.0        1             2000.0  Ottimo       Autonomo   \n",
       "10239      2.0        34.0        1             2000.0  Ottimo       Autonomo   \n",
       "13464      0.0       175.0        5             1950.0  Ottimo       Autonomo   \n",
       "13540     14.0        31.0        1             1950.0   Buono  Centralizzato   \n",
       "13614      8.0        56.0        1             2019.0   Nuovo  Centralizzato   \n",
       "\n",
       "      energy_efficiency      city       neighborhood                   adress  \\\n",
       "7861                  E    Milano         Repubblica  Piazza della Repubblica   \n",
       "9929                 A+    Milano   Melchiorre Gioia  Viale della Liberazione   \n",
       "10239                A+    Milano   Melchiorre Gioia  Viale della Liberazione   \n",
       "13464                 C    Milano  Argonne - Corsica  Via Umberto Masotto, 21   \n",
       "13540               NaN    Milano         Repubblica     Via Vittor Pisani, 2   \n",
       "13614                 A  Palestro                NaN                      NaN   \n",
       "\n",
       "                 latitude           longitude  \n",
       "7861   45.479900000000001  9.1990999999999996  \n",
       "9929   45.482599999999998  9.1940000000000008  \n",
       "10239  45.482599999999998  9.1940000000000008  \n",
       "13464  45.467100000000002  9.2331000000000003  \n",
       "13540  45.480400000000003  9.1994000000000007  \n",
       "13614  45.465800000000002  9.2028999999999996  "
      ]
     },
     "execution_count": 374,
     "metadata": {},
     "output_type": "execute_result"
    }
   ],
   "source": [
    "df_clean[df_clean['tot_floors']>26]"
   ]
  },
  {
   "cell_type": "markdown",
   "metadata": {},
   "source": [
    "First of all we can see that there is a value of 175 that is without doubts wrong because in Milan there aren't so high building.so we change the value in NaN."
   ]
  },
  {
   "cell_type": "code",
   "execution_count": 375,
   "metadata": {},
   "outputs": [],
   "source": [
    "df_clean['tot_floors'].replace(175,np.nan,inplace=True)"
   ]
  },
  {
   "cell_type": "markdown",
   "metadata": {},
   "source": [
    "Next we have examined the remaining one apartments': The apartments with 31 and 29 total floors are correct while we have to remove the apartments with 34 and 56 total floors because are a fake advertisement"
   ]
  },
  {
   "cell_type": "code",
   "execution_count": 376,
   "metadata": {},
   "outputs": [],
   "source": [
    "df_clean.drop(df_clean[df_clean['tot_floors'].isin([34,56])].index,inplace=True)"
   ]
  },
  {
   "cell_type": "code",
   "execution_count": 377,
   "metadata": {},
   "outputs": [
    {
     "data": {
      "text/html": [
       "<div>\n",
       "<style scoped>\n",
       "    .dataframe tbody tr th:only-of-type {\n",
       "        vertical-align: middle;\n",
       "    }\n",
       "\n",
       "    .dataframe tbody tr th {\n",
       "        vertical-align: top;\n",
       "    }\n",
       "\n",
       "    .dataframe thead th {\n",
       "        text-align: right;\n",
       "    }\n",
       "</style>\n",
       "<table border=\"1\" class=\"dataframe\">\n",
       "  <thead>\n",
       "    <tr style=\"text-align: right;\">\n",
       "      <th></th>\n",
       "      <th>price_€</th>\n",
       "      <th>building_fees_month</th>\n",
       "      <th>n_rooms</th>\n",
       "      <th>surface_sqm</th>\n",
       "      <th>n_bathrooms</th>\n",
       "      <th>floor_2</th>\n",
       "      <th>tot_floors</th>\n",
       "      <th>parking</th>\n",
       "      <th>year_construction</th>\n",
       "      <th>status</th>\n",
       "      <th>heating</th>\n",
       "      <th>energy_efficiency</th>\n",
       "      <th>city</th>\n",
       "      <th>neighborhood</th>\n",
       "      <th>adress</th>\n",
       "      <th>latitude</th>\n",
       "      <th>longitude</th>\n",
       "    </tr>\n",
       "  </thead>\n",
       "  <tbody>\n",
       "    <tr>\n",
       "      <th>7861</th>\n",
       "      <td>4100000</td>\n",
       "      <td>1.0</td>\n",
       "      <td>NaN</td>\n",
       "      <td>410.0</td>\n",
       "      <td>4.0</td>\n",
       "      <td>10.0</td>\n",
       "      <td>29.0</td>\n",
       "      <td>1</td>\n",
       "      <td>1950.0</td>\n",
       "      <td>Ottimo</td>\n",
       "      <td>Centralizzato</td>\n",
       "      <td>E</td>\n",
       "      <td>Milano</td>\n",
       "      <td>Repubblica</td>\n",
       "      <td>Piazza della Repubblica</td>\n",
       "      <td>45.479900000000001</td>\n",
       "      <td>9.1990999999999996</td>\n",
       "    </tr>\n",
       "    <tr>\n",
       "      <th>13540</th>\n",
       "      <td>4000000</td>\n",
       "      <td>NaN</td>\n",
       "      <td>NaN</td>\n",
       "      <td>435.0</td>\n",
       "      <td>4.0</td>\n",
       "      <td>14.0</td>\n",
       "      <td>31.0</td>\n",
       "      <td>1</td>\n",
       "      <td>1950.0</td>\n",
       "      <td>Buono</td>\n",
       "      <td>Centralizzato</td>\n",
       "      <td>NaN</td>\n",
       "      <td>Milano</td>\n",
       "      <td>Repubblica</td>\n",
       "      <td>Via Vittor Pisani, 2</td>\n",
       "      <td>45.480400000000003</td>\n",
       "      <td>9.1994000000000007</td>\n",
       "    </tr>\n",
       "  </tbody>\n",
       "</table>\n",
       "</div>"
      ],
      "text/plain": [
       "       price_€  building_fees_month  n_rooms  surface_sqm  n_bathrooms  \\\n",
       "7861   4100000                  1.0      NaN        410.0          4.0   \n",
       "13540  4000000                  NaN      NaN        435.0          4.0   \n",
       "\n",
       "       floor_2  tot_floors  parking  year_construction  status        heating  \\\n",
       "7861      10.0        29.0        1             1950.0  Ottimo  Centralizzato   \n",
       "13540     14.0        31.0        1             1950.0   Buono  Centralizzato   \n",
       "\n",
       "      energy_efficiency    city neighborhood                   adress  \\\n",
       "7861                  E  Milano   Repubblica  Piazza della Repubblica   \n",
       "13540               NaN  Milano   Repubblica     Via Vittor Pisani, 2   \n",
       "\n",
       "                 latitude           longitude  \n",
       "7861   45.479900000000001  9.1990999999999996  \n",
       "13540  45.480400000000003  9.1994000000000007  "
      ]
     },
     "execution_count": 377,
     "metadata": {},
     "output_type": "execute_result"
    }
   ],
   "source": [
    "df_clean[df_clean['tot_floors']>26]"
   ]
  },
  {
   "cell_type": "code",
   "execution_count": 378,
   "metadata": {},
   "outputs": [
    {
     "data": {
      "text/plain": [
       "<matplotlib.axes._subplots.AxesSubplot at 0x2cb7839b388>"
      ]
     },
     "execution_count": 378,
     "metadata": {},
     "output_type": "execute_result"
    },
    {
     "data": {
      "image/png": "[encoded data removed]",
      "text/plain": [
       "<Figure size 432x288 with 1 Axes>"
      ]
     },
     "metadata": {
      "needs_background": "light"
     },
     "output_type": "display_data"
    }
   ],
   "source": [
    "sns.distplot(df_clean['tot_floors'], kde = False, color = 'b', hist_kws={'alpha': 0.9})"
   ]
  },
  {
   "cell_type": "markdown",
   "metadata": {},
   "source": [
    "# 9) parking Column"
   ]
  },
  {
   "cell_type": "code",
   "execution_count": 379,
   "metadata": {},
   "outputs": [
    {
     "data": {
      "text/plain": [
       "0        0\n",
       "1        0\n",
       "2        0\n",
       "3        1\n",
       "4        0\n",
       "        ..\n",
       "14675    0\n",
       "14676    2\n",
       "14677    0\n",
       "14678    0\n",
       "14679    0\n",
       "Name: parking, Length: 12555, dtype: int64"
      ]
     },
     "execution_count": 379,
     "metadata": {},
     "output_type": "execute_result"
    }
   ],
   "source": [
    "df_clean['parking']"
   ]
  },
  {
   "cell_type": "markdown",
   "metadata": {},
   "source": [
    "data type is integer"
   ]
  },
  {
   "cell_type": "code",
   "execution_count": 380,
   "metadata": {},
   "outputs": [
    {
     "data": {
      "text/plain": [
       "0    9602\n",
       "1    2469\n",
       "2     465\n",
       "3      11\n",
       "5       3\n",
       "4       3\n",
       "7       1\n",
       "6       1\n",
       "Name: parking, dtype: int64"
      ]
     },
     "execution_count": 380,
     "metadata": {},
     "output_type": "execute_result"
    }
   ],
   "source": [
    "df_clean['parking'].value_counts()"
   ]
  },
  {
   "cell_type": "markdown",
   "metadata": {},
   "source": [
    "Because we want to know only if the apartment has a parking slot or not we have to replace all the values > 1 as 1."
   ]
  },
  {
   "cell_type": "code",
   "execution_count": 381,
   "metadata": {},
   "outputs": [],
   "source": [
    "df_clean['parking'] = np.where(df_clean['parking']>1, \n",
    "                              1,df_clean['parking'])"
   ]
  },
  {
   "cell_type": "code",
   "execution_count": 382,
   "metadata": {},
   "outputs": [
    {
     "data": {
      "text/plain": [
       "0    9602\n",
       "1    2953\n",
       "Name: parking, dtype: int64"
      ]
     },
     "execution_count": 382,
     "metadata": {},
     "output_type": "execute_result"
    }
   ],
   "source": [
    "df_clean['parking'].value_counts()"
   ]
  },
  {
   "cell_type": "markdown",
   "metadata": {},
   "source": [
    "# 10) year_construction Column"
   ]
  },
  {
   "cell_type": "code",
   "execution_count": 383,
   "metadata": {},
   "outputs": [
    {
     "data": {
      "text/plain": [
       "0        1950.0\n",
       "1        1950.0\n",
       "2        1970.0\n",
       "3        1970.0\n",
       "4        1965.0\n",
       "          ...  \n",
       "14675       NaN\n",
       "14676    1990.0\n",
       "14677    2005.0\n",
       "14678    1960.0\n",
       "14679    1960.0\n",
       "Name: year_construction, Length: 12555, dtype: float64"
      ]
     },
     "execution_count": 383,
     "metadata": {},
     "output_type": "execute_result"
    }
   ],
   "source": [
    "df_clean['year_construction']"
   ]
  },
  {
   "cell_type": "markdown",
   "metadata": {},
   "source": [
    "data type is float"
   ]
  },
  {
   "cell_type": "code",
   "execution_count": 384,
   "metadata": {},
   "outputs": [
    {
     "data": {
      "text/plain": [
       "<matplotlib.axes._subplots.AxesSubplot at 0x2cb785dca48>"
      ]
     },
     "execution_count": 384,
     "metadata": {},
     "output_type": "execute_result"
    },
    {
     "data": {
      "image/png": "[encoded data removed]",
      "text/plain": [
       "<Figure size 432x288 with 1 Axes>"
      ]
     },
     "metadata": {
      "needs_background": "light"
     },
     "output_type": "display_data"
    }
   ],
   "source": [
    "sns.distplot(df_clean['year_construction'], kde = False, color = 'b', hist_kws={'alpha': 0.9})"
   ]
  },
  {
   "cell_type": "code",
   "execution_count": 389,
   "metadata": {},
   "outputs": [
    {
     "data": {
      "text/html": [
       "<div>\n",
       "<style scoped>\n",
       "    .dataframe tbody tr th:only-of-type {\n",
       "        vertical-align: middle;\n",
       "    }\n",
       "\n",
       "    .dataframe tbody tr th {\n",
       "        vertical-align: top;\n",
       "    }\n",
       "\n",
       "    .dataframe thead th {\n",
       "        text-align: right;\n",
       "    }\n",
       "</style>\n",
       "<table border=\"1\" class=\"dataframe\">\n",
       "  <thead>\n",
       "    <tr style=\"text-align: right;\">\n",
       "      <th></th>\n",
       "      <th>price_€</th>\n",
       "      <th>building_fees_month</th>\n",
       "      <th>n_rooms</th>\n",
       "      <th>surface_sqm</th>\n",
       "      <th>n_bathrooms</th>\n",
       "      <th>floor_2</th>\n",
       "      <th>tot_floors</th>\n",
       "      <th>parking</th>\n",
       "      <th>year_construction</th>\n",
       "      <th>status</th>\n",
       "      <th>heating</th>\n",
       "      <th>energy_efficiency</th>\n",
       "      <th>city</th>\n",
       "      <th>neighborhood</th>\n",
       "      <th>adress</th>\n",
       "      <th>latitude</th>\n",
       "      <th>longitude</th>\n",
       "    </tr>\n",
       "  </thead>\n",
       "  <tbody>\n",
       "    <tr>\n",
       "      <th>997</th>\n",
       "      <td>199000</td>\n",
       "      <td>200.0</td>\n",
       "      <td>3.0</td>\n",
       "      <td>85.0</td>\n",
       "      <td>1.0</td>\n",
       "      <td>6.0</td>\n",
       "      <td>8.0</td>\n",
       "      <td>0</td>\n",
       "      <td>1067.0</td>\n",
       "      <td>Ristrutturare</td>\n",
       "      <td>Centralizzato</td>\n",
       "      <td>G</td>\n",
       "      <td>Milano</td>\n",
       "      <td>Gallaratese</td>\n",
       "      <td>Via Ugo Betti, 163</td>\n",
       "      <td>45.496099999999998</td>\n",
       "      <td>9.1083999999999996</td>\n",
       "    </tr>\n",
       "    <tr>\n",
       "      <th>1280</th>\n",
       "      <td>370000</td>\n",
       "      <td>105.0</td>\n",
       "      <td>2.0</td>\n",
       "      <td>60.0</td>\n",
       "      <td>1.0</td>\n",
       "      <td>0.0</td>\n",
       "      <td>7.0</td>\n",
       "      <td>0</td>\n",
       "      <td>1030.0</td>\n",
       "      <td>Ottimo</td>\n",
       "      <td>Centralizzato</td>\n",
       "      <td>G</td>\n",
       "      <td>Milano</td>\n",
       "      <td>Melchiorre Gioia</td>\n",
       "      <td>Via Ettore Bellani, 2</td>\n",
       "      <td>45.485999999999997</td>\n",
       "      <td>9.1950000000000003</td>\n",
       "    </tr>\n",
       "    <tr>\n",
       "      <th>10459</th>\n",
       "      <td>135000</td>\n",
       "      <td>100.0</td>\n",
       "      <td>2.0</td>\n",
       "      <td>49.0</td>\n",
       "      <td>1.0</td>\n",
       "      <td>0.0</td>\n",
       "      <td>5.0</td>\n",
       "      <td>0</td>\n",
       "      <td>1197.0</td>\n",
       "      <td>Buono</td>\n",
       "      <td>Centralizzato</td>\n",
       "      <td>F</td>\n",
       "      <td>Milano</td>\n",
       "      <td>Bisceglie</td>\n",
       "      <td>Via della Martinella, 15</td>\n",
       "      <td>45.459600000000002</td>\n",
       "      <td>9.1120000000000001</td>\n",
       "    </tr>\n",
       "  </tbody>\n",
       "</table>\n",
       "</div>"
      ],
      "text/plain": [
       "       price_€  building_fees_month  n_rooms  surface_sqm  n_bathrooms  \\\n",
       "997     199000                200.0      3.0         85.0          1.0   \n",
       "1280    370000                105.0      2.0         60.0          1.0   \n",
       "10459   135000                100.0      2.0         49.0          1.0   \n",
       "\n",
       "       floor_2  tot_floors  parking  year_construction         status  \\\n",
       "997        6.0         8.0        0             1067.0  Ristrutturare   \n",
       "1280       0.0         7.0        0             1030.0         Ottimo   \n",
       "10459      0.0         5.0        0             1197.0          Buono   \n",
       "\n",
       "             heating energy_efficiency    city      neighborhood  \\\n",
       "997    Centralizzato                 G  Milano       Gallaratese   \n",
       "1280   Centralizzato                 G  Milano  Melchiorre Gioia   \n",
       "10459  Centralizzato                 F  Milano         Bisceglie   \n",
       "\n",
       "                         adress            latitude           longitude  \n",
       "997          Via Ugo Betti, 163  45.496099999999998  9.1083999999999996  \n",
       "1280      Via Ettore Bellani, 2  45.485999999999997  9.1950000000000003  \n",
       "10459  Via della Martinella, 15  45.459600000000002  9.1120000000000001  "
      ]
     },
     "execution_count": 389,
     "metadata": {},
     "output_type": "execute_result"
    }
   ],
   "source": [
    "df_clean[df_clean['year_construction']<1300]"
   ]
  },
  {
   "cell_type": "code",
   "execution_count": 402,
   "metadata": {},
   "outputs": [
    {
     "data": {
      "text/plain": [
       "0        False\n",
       "1        False\n",
       "2        False\n",
       "3        False\n",
       "4        False\n",
       "         ...  \n",
       "14675    False\n",
       "14676    False\n",
       "14677    False\n",
       "14678    False\n",
       "14679    False\n",
       "Name: year_construction, Length: 12555, dtype: bool"
      ]
     },
     "execution_count": 402,
     "metadata": {},
     "output_type": "execute_result"
    }
   ],
   "source": [
    "df_clean['year_construction']<1300 = np.na"
   ]
  },
  {
   "cell_type": "markdown",
   "metadata": {},
   "source": [
    "We suppose that a year of construction < 1300 is an error so we are going to replace the year with 'nan'"
   ]
  },
  {
   "cell_type": "code",
   "execution_count": 401,
   "metadata": {},
   "outputs": [
    {
     "data": {
      "text/html": [
       "<div>\n",
       "<style scoped>\n",
       "    .dataframe tbody tr th:only-of-type {\n",
       "        vertical-align: middle;\n",
       "    }\n",
       "\n",
       "    .dataframe tbody tr th {\n",
       "        vertical-align: top;\n",
       "    }\n",
       "\n",
       "    .dataframe thead th {\n",
       "        text-align: right;\n",
       "    }\n",
       "</style>\n",
       "<table border=\"1\" class=\"dataframe\">\n",
       "  <thead>\n",
       "    <tr style=\"text-align: right;\">\n",
       "      <th></th>\n",
       "      <th>price_€</th>\n",
       "      <th>building_fees_month</th>\n",
       "      <th>n_rooms</th>\n",
       "      <th>surface_sqm</th>\n",
       "      <th>n_bathrooms</th>\n",
       "      <th>floor_2</th>\n",
       "      <th>tot_floors</th>\n",
       "      <th>parking</th>\n",
       "      <th>year_construction</th>\n",
       "      <th>status</th>\n",
       "      <th>heating</th>\n",
       "      <th>energy_efficiency</th>\n",
       "      <th>city</th>\n",
       "      <th>neighborhood</th>\n",
       "      <th>adress</th>\n",
       "      <th>latitude</th>\n",
       "      <th>longitude</th>\n",
       "    </tr>\n",
       "  </thead>\n",
       "  <tbody>\n",
       "    <tr>\n",
       "      <th>4304</th>\n",
       "      <td>288000</td>\n",
       "      <td>90.0</td>\n",
       "      <td>1.0</td>\n",
       "      <td>30.0</td>\n",
       "      <td>1.0</td>\n",
       "      <td>4.0</td>\n",
       "      <td>4.0</td>\n",
       "      <td>0</td>\n",
       "      <td>1300.0</td>\n",
       "      <td>Ottimo</td>\n",
       "      <td>Autonomo</td>\n",
       "      <td>F</td>\n",
       "      <td>Milano</td>\n",
       "      <td>Carrobbio</td>\n",
       "      <td>Corso di Porta Ticinese</td>\n",
       "      <td>45.457500000000003</td>\n",
       "      <td>9.1807999999999996</td>\n",
       "    </tr>\n",
       "    <tr>\n",
       "      <th>7421</th>\n",
       "      <td>590000</td>\n",
       "      <td>50.0</td>\n",
       "      <td>4.0</td>\n",
       "      <td>95.0</td>\n",
       "      <td>2.0</td>\n",
       "      <td>0.0</td>\n",
       "      <td>3.0</td>\n",
       "      <td>0</td>\n",
       "      <td>1300.0</td>\n",
       "      <td>Buono</td>\n",
       "      <td>Autonomo</td>\n",
       "      <td>F</td>\n",
       "      <td>Milano</td>\n",
       "      <td>Carrobbio</td>\n",
       "      <td>Corso di Porta Ticinese</td>\n",
       "      <td>45.457700000000003</td>\n",
       "      <td>9.1809999999999992</td>\n",
       "    </tr>\n",
       "  </tbody>\n",
       "</table>\n",
       "</div>"
      ],
      "text/plain": [
       "      price_€  building_fees_month  n_rooms  surface_sqm  n_bathrooms  \\\n",
       "4304   288000                 90.0      1.0         30.0          1.0   \n",
       "7421   590000                 50.0      4.0         95.0          2.0   \n",
       "\n",
       "      floor_2  tot_floors  parking  year_construction  status   heating  \\\n",
       "4304      4.0         4.0        0             1300.0  Ottimo  Autonomo   \n",
       "7421      0.0         3.0        0             1300.0   Buono  Autonomo   \n",
       "\n",
       "     energy_efficiency    city neighborhood                   adress  \\\n",
       "4304                 F  Milano    Carrobbio  Corso di Porta Ticinese   \n",
       "7421                 F  Milano    Carrobbio  Corso di Porta Ticinese   \n",
       "\n",
       "                latitude           longitude  \n",
       "4304  45.457500000000003  9.1807999999999996  \n",
       "7421  45.457700000000003  9.1809999999999992  "
      ]
     },
     "execution_count": 401,
     "metadata": {},
     "output_type": "execute_result"
    }
   ],
   "source": [
    "df_clean[df_clean['year_construction']<1400]"
   ]
  },
  {
   "cell_type": "markdown",
   "metadata": {},
   "source": [
    "# 11) status Column"
   ]
  },
  {
   "cell_type": "markdown",
   "metadata": {},
   "source": [
    "We have to investigate about the categories into the column about the status of the apartment"
   ]
  },
  {
   "cell_type": "code",
   "execution_count": 403,
   "metadata": {},
   "outputs": [
    {
     "data": {
      "text/plain": [
       "Ottimo           5712\n",
       "Buono            3498\n",
       "Nuovo            1874\n",
       "Ristrutturare    1471\n",
       "Name: status, dtype: int64"
      ]
     },
     "execution_count": 403,
     "metadata": {},
     "output_type": "execute_result"
    }
   ],
   "source": [
    "df_clean['status'].value_counts()"
   ]
  },
  {
   "cell_type": "markdown",
   "metadata": {},
   "source": [
    "As you can see there are 4 categories: \n",
    "\n",
    "Ottimo: Excellent\n",
    "\n",
    "Buono: Good\n",
    "\n",
    "Nuovo: New\n",
    "\n",
    "Ristrutturare: To be Restored"
   ]
  },
  {
   "cell_type": "markdown",
   "metadata": {},
   "source": [
    "# 12) Heating Column"
   ]
  },
  {
   "cell_type": "code",
   "execution_count": 404,
   "metadata": {},
   "outputs": [
    {
     "data": {
      "text/plain": [
       "Centralizzato    7791\n",
       "Autonomo         4329\n",
       "Name: heating, dtype: int64"
      ]
     },
     "execution_count": 404,
     "metadata": {},
     "output_type": "execute_result"
    }
   ],
   "source": [
    "df_clean['heating'].value_counts()"
   ]
  },
  {
   "cell_type": "markdown",
   "metadata": {},
   "source": [
    "All is correct"
   ]
  },
  {
   "cell_type": "markdown",
   "metadata": {},
   "source": [
    "# 12) energy efficiency Column"
   ]
  },
  {
   "cell_type": "code",
   "execution_count": 406,
   "metadata": {},
   "outputs": [
    {
     "data": {
      "text/plain": [
       "G     5099\n",
       "F     2007\n",
       "E     1250\n",
       "D      774\n",
       "B      488\n",
       "A      464\n",
       "C      407\n",
       "A+     192\n",
       "A2     106\n",
       "A1      85\n",
       "A4      75\n",
       "A3      69\n",
       "Name: energy_efficiency, dtype: int64"
      ]
     },
     "execution_count": 406,
     "metadata": {},
     "output_type": "execute_result"
    }
   ],
   "source": [
    "df_clean['energy_efficiency'].value_counts()"
   ]
  },
  {
   "cell_type": "markdown",
   "metadata": {},
   "source": [
    "Each letter refer to a quality of the apartment' energy system, going from best quality indicating as A4 to the least efficient indicating with G."
   ]
  },
  {
   "cell_type": "markdown",
   "metadata": {},
   "source": [
    "To follow the same system we have to replace A+ with A1"
   ]
  },
  {
   "cell_type": "code",
   "execution_count": 408,
   "metadata": {},
   "outputs": [],
   "source": [
    "df_clean['energy_efficiency'].replace('A+','A1',inplace=True)"
   ]
  },
  {
   "cell_type": "markdown",
   "metadata": {},
   "source": [
    "# 13) city Column"
   ]
  },
  {
   "cell_type": "code",
   "execution_count": 409,
   "metadata": {},
   "outputs": [
    {
     "data": {
      "text/plain": [
       "Milano                11532\n",
       "San Siro                 29\n",
       "Palestro                 26\n",
       "Città Studi              26\n",
       "Navigli - Darsena        25\n",
       "                      ...  \n",
       "Villa San Giovanni        1\n",
       "Molise - Cuoco            1\n",
       "Quarto Oggiaro            1\n",
       "Turati                    1\n",
       "Udine                     1\n",
       "Name: city, Length: 140, dtype: int64"
      ]
     },
     "execution_count": 409,
     "metadata": {},
     "output_type": "execute_result"
    }
   ],
   "source": [
    "df_clean['city'].value_counts()"
   ]
  },
  {
   "cell_type": "markdown",
   "metadata": {},
   "source": [
    "As you can see, in the city column there are also the neighborhoods, so before we replace them with 'Milan' entry, we want to replace the 'nan' values in the neighborhood column with these values."
   ]
  },
  {
   "cell_type": "markdown",
   "metadata": {},
   "source": [
    "# 14) neighborhood Column"
   ]
  },
  {
   "cell_type": "markdown",
   "metadata": {},
   "source": [
    "We are going to replace nan values with the neighborhood name present into the city column"
   ]
  },
  {
   "cell_type": "code",
   "execution_count": 410,
   "metadata": {},
   "outputs": [
    {
     "data": {
      "text/plain": [
       "1023"
      ]
     },
     "execution_count": 410,
     "metadata": {},
     "output_type": "execute_result"
    }
   ],
   "source": [
    "df_clean['neighborhood'].isnull().sum()"
   ]
  },
  {
   "cell_type": "code",
   "execution_count": 411,
   "metadata": {},
   "outputs": [],
   "source": [
    "df_clean['neighborhood'] = np.where((df_clean['neighborhood'].isnull()) & (df_clean['city']!='Milano'),\n",
    "                                   df_clean['city'],df_clean['neighborhood'])"
   ]
  },
  {
   "cell_type": "code",
   "execution_count": 412,
   "metadata": {},
   "outputs": [
    {
     "data": {
      "text/plain": [
       "222"
      ]
     },
     "execution_count": 412,
     "metadata": {},
     "output_type": "execute_result"
    }
   ],
   "source": [
    "df_clean['neighborhood'].isnull().sum()"
   ]
  },
  {
   "cell_type": "markdown",
   "metadata": {},
   "source": [
    "Perfect now we can replace all the values of the city column with 'Milano'"
   ]
  },
  {
   "cell_type": "code",
   "execution_count": 413,
   "metadata": {},
   "outputs": [],
   "source": [
    "df_clean['city'] = 'Milano'"
   ]
  },
  {
   "cell_type": "code",
   "execution_count": 414,
   "metadata": {},
   "outputs": [
    {
     "data": {
      "text/plain": [
       "Milano    12555\n",
       "Name: city, dtype: int64"
      ]
     },
     "execution_count": 414,
     "metadata": {},
     "output_type": "execute_result"
    }
   ],
   "source": [
    "df_clean['city'].value_counts()"
   ]
  },
  {
   "cell_type": "markdown",
   "metadata": {},
   "source": [
    "# 15) adress Column"
   ]
  },
  {
   "cell_type": "markdown",
   "metadata": {},
   "source": [
    "Now we have to check"
   ]
  },
  {
   "cell_type": "code",
   "execution_count": 415,
   "metadata": {},
   "outputs": [
    {
     "data": {
      "text/plain": [
       "0               Via Carmagnola, 3\n",
       "1         Via Giovanni Pacini, 67\n",
       "2              Via Federico Tesio\n",
       "3        Piazza Ernesto De Angeli\n",
       "4           Via delle Genziane, 7\n",
       "                   ...           \n",
       "14675                         NaN\n",
       "14676                         NaN\n",
       "14677          Via Nino Bixio, 15\n",
       "14678             via Grancini, 6\n",
       "14679                via boni, 24\n",
       "Name: adress, Length: 12555, dtype: object"
      ]
     },
     "execution_count": 415,
     "metadata": {},
     "output_type": "execute_result"
    }
   ],
   "source": [
    "df_clean['adress']"
   ]
  },
  {
   "cell_type": "markdown",
   "metadata": {},
   "source": [
    "# 16) latitude, longitude Columns"
   ]
  },
  {
   "cell_type": "markdown",
   "metadata": {},
   "source": [
    "We have now to investigate about nan values of these 2 columns and verify if the correspondent apartment have information about the neighborhood or address because in that case we can obtain the latitute and longitude information throgh an arcgis API."
   ]
  },
  {
   "cell_type": "code",
   "execution_count": 417,
   "metadata": {},
   "outputs": [
    {
     "data": {
      "text/html": [
       "<div>\n",
       "<style scoped>\n",
       "    .dataframe tbody tr th:only-of-type {\n",
       "        vertical-align: middle;\n",
       "    }\n",
       "\n",
       "    .dataframe tbody tr th {\n",
       "        vertical-align: top;\n",
       "    }\n",
       "\n",
       "    .dataframe thead th {\n",
       "        text-align: right;\n",
       "    }\n",
       "</style>\n",
       "<table border=\"1\" class=\"dataframe\">\n",
       "  <thead>\n",
       "    <tr style=\"text-align: right;\">\n",
       "      <th></th>\n",
       "      <th>price_€</th>\n",
       "      <th>building_fees_month</th>\n",
       "      <th>n_rooms</th>\n",
       "      <th>surface_sqm</th>\n",
       "      <th>n_bathrooms</th>\n",
       "      <th>floor_2</th>\n",
       "      <th>tot_floors</th>\n",
       "      <th>parking</th>\n",
       "      <th>year_construction</th>\n",
       "      <th>status</th>\n",
       "      <th>heating</th>\n",
       "      <th>energy_efficiency</th>\n",
       "      <th>city</th>\n",
       "      <th>neighborhood</th>\n",
       "      <th>adress</th>\n",
       "      <th>latitude</th>\n",
       "      <th>longitude</th>\n",
       "    </tr>\n",
       "  </thead>\n",
       "  <tbody>\n",
       "    <tr>\n",
       "      <th>782</th>\n",
       "      <td>120000</td>\n",
       "      <td>NaN</td>\n",
       "      <td>1.0</td>\n",
       "      <td>24.0</td>\n",
       "      <td>1.0</td>\n",
       "      <td>1.0</td>\n",
       "      <td>NaN</td>\n",
       "      <td>0</td>\n",
       "      <td>NaN</td>\n",
       "      <td>Buono</td>\n",
       "      <td>Centralizzato</td>\n",
       "      <td>NaN</td>\n",
       "      <td>Milano</td>\n",
       "      <td>NaN</td>\n",
       "      <td>NaN</td>\n",
       "      <td>NaN</td>\n",
       "      <td>NaN</td>\n",
       "    </tr>\n",
       "    <tr>\n",
       "      <th>9270</th>\n",
       "      <td>177000</td>\n",
       "      <td>NaN</td>\n",
       "      <td>1.0</td>\n",
       "      <td>53.0</td>\n",
       "      <td>1.0</td>\n",
       "      <td>1.0</td>\n",
       "      <td>5.0</td>\n",
       "      <td>0</td>\n",
       "      <td>2020.0</td>\n",
       "      <td>Nuovo</td>\n",
       "      <td>Autonomo</td>\n",
       "      <td>NaN</td>\n",
       "      <td>Milano</td>\n",
       "      <td>NaN</td>\n",
       "      <td>NaN</td>\n",
       "      <td>NaN</td>\n",
       "      <td>NaN</td>\n",
       "    </tr>\n",
       "    <tr>\n",
       "      <th>11846</th>\n",
       "      <td>580000</td>\n",
       "      <td>NaN</td>\n",
       "      <td>3.0</td>\n",
       "      <td>403.0</td>\n",
       "      <td>2.0</td>\n",
       "      <td>1.0</td>\n",
       "      <td>1.0</td>\n",
       "      <td>0</td>\n",
       "      <td>2000.0</td>\n",
       "      <td>Ottimo</td>\n",
       "      <td>Autonomo</td>\n",
       "      <td>G</td>\n",
       "      <td>Milano</td>\n",
       "      <td>NaN</td>\n",
       "      <td>NaN</td>\n",
       "      <td>NaN</td>\n",
       "      <td>NaN</td>\n",
       "    </tr>\n",
       "    <tr>\n",
       "      <th>12209</th>\n",
       "      <td>1000000</td>\n",
       "      <td>291.0</td>\n",
       "      <td>3.0</td>\n",
       "      <td>100.0</td>\n",
       "      <td>1.0</td>\n",
       "      <td>4.0</td>\n",
       "      <td>4.0</td>\n",
       "      <td>0</td>\n",
       "      <td>1950.0</td>\n",
       "      <td>Ottimo</td>\n",
       "      <td>Autonomo</td>\n",
       "      <td>F</td>\n",
       "      <td>Milano</td>\n",
       "      <td>NaN</td>\n",
       "      <td>NaN</td>\n",
       "      <td>NaN</td>\n",
       "      <td>NaN</td>\n",
       "    </tr>\n",
       "    <tr>\n",
       "      <th>12471</th>\n",
       "      <td>170000</td>\n",
       "      <td>90.0</td>\n",
       "      <td>2.0</td>\n",
       "      <td>52.0</td>\n",
       "      <td>1.0</td>\n",
       "      <td>5.0</td>\n",
       "      <td>5.0</td>\n",
       "      <td>0</td>\n",
       "      <td>1930.0</td>\n",
       "      <td>Buono</td>\n",
       "      <td>Autonomo</td>\n",
       "      <td>G</td>\n",
       "      <td>Milano</td>\n",
       "      <td>NaN</td>\n",
       "      <td>NaN</td>\n",
       "      <td>NaN</td>\n",
       "      <td>NaN</td>\n",
       "    </tr>\n",
       "    <tr>\n",
       "      <th>12562</th>\n",
       "      <td>2200000</td>\n",
       "      <td>540.0</td>\n",
       "      <td>5.0</td>\n",
       "      <td>200.0</td>\n",
       "      <td>2.0</td>\n",
       "      <td>4.0</td>\n",
       "      <td>6.0</td>\n",
       "      <td>0</td>\n",
       "      <td>1920.0</td>\n",
       "      <td>Ristrutturare</td>\n",
       "      <td>Centralizzato</td>\n",
       "      <td>E</td>\n",
       "      <td>Milano</td>\n",
       "      <td>NaN</td>\n",
       "      <td>NaN</td>\n",
       "      <td>NaN</td>\n",
       "      <td>NaN</td>\n",
       "    </tr>\n",
       "    <tr>\n",
       "      <th>12697</th>\n",
       "      <td>980000</td>\n",
       "      <td>600.0</td>\n",
       "      <td>3.0</td>\n",
       "      <td>160.0</td>\n",
       "      <td>2.0</td>\n",
       "      <td>5.0</td>\n",
       "      <td>5.0</td>\n",
       "      <td>1</td>\n",
       "      <td>NaN</td>\n",
       "      <td>Ottimo</td>\n",
       "      <td>Centralizzato</td>\n",
       "      <td>A</td>\n",
       "      <td>Milano</td>\n",
       "      <td>NaN</td>\n",
       "      <td>NaN</td>\n",
       "      <td>NaN</td>\n",
       "      <td>NaN</td>\n",
       "    </tr>\n",
       "    <tr>\n",
       "      <th>12910</th>\n",
       "      <td>749000</td>\n",
       "      <td>100.0</td>\n",
       "      <td>5.0</td>\n",
       "      <td>140.0</td>\n",
       "      <td>2.0</td>\n",
       "      <td>4.0</td>\n",
       "      <td>4.0</td>\n",
       "      <td>0</td>\n",
       "      <td>1930.0</td>\n",
       "      <td>Buono</td>\n",
       "      <td>Autonomo</td>\n",
       "      <td>F</td>\n",
       "      <td>Milano</td>\n",
       "      <td>NaN</td>\n",
       "      <td>NaN</td>\n",
       "      <td>NaN</td>\n",
       "      <td>NaN</td>\n",
       "    </tr>\n",
       "    <tr>\n",
       "      <th>13336</th>\n",
       "      <td>560000</td>\n",
       "      <td>150.0</td>\n",
       "      <td>5.0</td>\n",
       "      <td>95.0</td>\n",
       "      <td>1.0</td>\n",
       "      <td>4.0</td>\n",
       "      <td>5.0</td>\n",
       "      <td>0</td>\n",
       "      <td>1892.0</td>\n",
       "      <td>Ottimo</td>\n",
       "      <td>Centralizzato</td>\n",
       "      <td>G</td>\n",
       "      <td>Milano</td>\n",
       "      <td>NaN</td>\n",
       "      <td>NaN</td>\n",
       "      <td>NaN</td>\n",
       "      <td>NaN</td>\n",
       "    </tr>\n",
       "    <tr>\n",
       "      <th>13675</th>\n",
       "      <td>148000</td>\n",
       "      <td>67.0</td>\n",
       "      <td>1.0</td>\n",
       "      <td>42.0</td>\n",
       "      <td>1.0</td>\n",
       "      <td>5.0</td>\n",
       "      <td>5.0</td>\n",
       "      <td>0</td>\n",
       "      <td>1930.0</td>\n",
       "      <td>Ottimo</td>\n",
       "      <td>Autonomo</td>\n",
       "      <td>G</td>\n",
       "      <td>Milano</td>\n",
       "      <td>NaN</td>\n",
       "      <td>NaN</td>\n",
       "      <td>NaN</td>\n",
       "      <td>NaN</td>\n",
       "    </tr>\n",
       "    <tr>\n",
       "      <th>13742</th>\n",
       "      <td>250000</td>\n",
       "      <td>115.0</td>\n",
       "      <td>2.0</td>\n",
       "      <td>50.0</td>\n",
       "      <td>1.0</td>\n",
       "      <td>0.0</td>\n",
       "      <td>NaN</td>\n",
       "      <td>0</td>\n",
       "      <td>NaN</td>\n",
       "      <td>Ottimo</td>\n",
       "      <td>Centralizzato</td>\n",
       "      <td>E</td>\n",
       "      <td>Milano</td>\n",
       "      <td>NaN</td>\n",
       "      <td>NaN</td>\n",
       "      <td>NaN</td>\n",
       "      <td>NaN</td>\n",
       "    </tr>\n",
       "    <tr>\n",
       "      <th>13890</th>\n",
       "      <td>980000</td>\n",
       "      <td>NaN</td>\n",
       "      <td>2.0</td>\n",
       "      <td>93.0</td>\n",
       "      <td>1.0</td>\n",
       "      <td>3.0</td>\n",
       "      <td>5.0</td>\n",
       "      <td>0</td>\n",
       "      <td>1850.0</td>\n",
       "      <td>Buono</td>\n",
       "      <td>Centralizzato</td>\n",
       "      <td>G</td>\n",
       "      <td>Milano</td>\n",
       "      <td>NaN</td>\n",
       "      <td>NaN</td>\n",
       "      <td>NaN</td>\n",
       "      <td>NaN</td>\n",
       "    </tr>\n",
       "    <tr>\n",
       "      <th>13936</th>\n",
       "      <td>400000</td>\n",
       "      <td>NaN</td>\n",
       "      <td>5.0</td>\n",
       "      <td>149.0</td>\n",
       "      <td>2.0</td>\n",
       "      <td>2.0</td>\n",
       "      <td>NaN</td>\n",
       "      <td>1</td>\n",
       "      <td>1965.0</td>\n",
       "      <td>Ottimo</td>\n",
       "      <td>Centralizzato</td>\n",
       "      <td>G</td>\n",
       "      <td>Milano</td>\n",
       "      <td>NaN</td>\n",
       "      <td>NaN</td>\n",
       "      <td>NaN</td>\n",
       "      <td>NaN</td>\n",
       "    </tr>\n",
       "    <tr>\n",
       "      <th>14012</th>\n",
       "      <td>125000</td>\n",
       "      <td>NaN</td>\n",
       "      <td>1.0</td>\n",
       "      <td>35.0</td>\n",
       "      <td>NaN</td>\n",
       "      <td>NaN</td>\n",
       "      <td>NaN</td>\n",
       "      <td>0</td>\n",
       "      <td>NaN</td>\n",
       "      <td>Ristrutturare</td>\n",
       "      <td>Centralizzato</td>\n",
       "      <td>G</td>\n",
       "      <td>Milano</td>\n",
       "      <td>NaN</td>\n",
       "      <td>NaN</td>\n",
       "      <td>NaN</td>\n",
       "      <td>NaN</td>\n",
       "    </tr>\n",
       "    <tr>\n",
       "      <th>14040</th>\n",
       "      <td>230000</td>\n",
       "      <td>NaN</td>\n",
       "      <td>NaN</td>\n",
       "      <td>445.0</td>\n",
       "      <td>4.0</td>\n",
       "      <td>1.0</td>\n",
       "      <td>2.0</td>\n",
       "      <td>1</td>\n",
       "      <td>1800.0</td>\n",
       "      <td>Buono</td>\n",
       "      <td>Autonomo</td>\n",
       "      <td>G</td>\n",
       "      <td>Milano</td>\n",
       "      <td>NaN</td>\n",
       "      <td>NaN</td>\n",
       "      <td>NaN</td>\n",
       "      <td>NaN</td>\n",
       "    </tr>\n",
       "    <tr>\n",
       "      <th>14582</th>\n",
       "      <td>110000</td>\n",
       "      <td>NaN</td>\n",
       "      <td>1.0</td>\n",
       "      <td>35.0</td>\n",
       "      <td>1.0</td>\n",
       "      <td>1.0</td>\n",
       "      <td>1.0</td>\n",
       "      <td>0</td>\n",
       "      <td>NaN</td>\n",
       "      <td>Ottimo</td>\n",
       "      <td>Autonomo</td>\n",
       "      <td>G</td>\n",
       "      <td>Milano</td>\n",
       "      <td>NaN</td>\n",
       "      <td>NaN</td>\n",
       "      <td>NaN</td>\n",
       "      <td>NaN</td>\n",
       "    </tr>\n",
       "  </tbody>\n",
       "</table>\n",
       "</div>"
      ],
      "text/plain": [
       "       price_€  building_fees_month  n_rooms  surface_sqm  n_bathrooms  \\\n",
       "782     120000                  NaN      1.0         24.0          1.0   \n",
       "9270    177000                  NaN      1.0         53.0          1.0   \n",
       "11846   580000                  NaN      3.0        403.0          2.0   \n",
       "12209  1000000                291.0      3.0        100.0          1.0   \n",
       "12471   170000                 90.0      2.0         52.0          1.0   \n",
       "12562  2200000                540.0      5.0        200.0          2.0   \n",
       "12697   980000                600.0      3.0        160.0          2.0   \n",
       "12910   749000                100.0      5.0        140.0          2.0   \n",
       "13336   560000                150.0      5.0         95.0          1.0   \n",
       "13675   148000                 67.0      1.0         42.0          1.0   \n",
       "13742   250000                115.0      2.0         50.0          1.0   \n",
       "13890   980000                  NaN      2.0         93.0          1.0   \n",
       "13936   400000                  NaN      5.0        149.0          2.0   \n",
       "14012   125000                  NaN      1.0         35.0          NaN   \n",
       "14040   230000                  NaN      NaN        445.0          4.0   \n",
       "14582   110000                  NaN      1.0         35.0          1.0   \n",
       "\n",
       "       floor_2  tot_floors  parking  year_construction         status  \\\n",
       "782        1.0         NaN        0                NaN          Buono   \n",
       "9270       1.0         5.0        0             2020.0          Nuovo   \n",
       "11846      1.0         1.0        0             2000.0         Ottimo   \n",
       "12209      4.0         4.0        0             1950.0         Ottimo   \n",
       "12471      5.0         5.0        0             1930.0          Buono   \n",
       "12562      4.0         6.0        0             1920.0  Ristrutturare   \n",
       "12697      5.0         5.0        1                NaN         Ottimo   \n",
       "12910      4.0         4.0        0             1930.0          Buono   \n",
       "13336      4.0         5.0        0             1892.0         Ottimo   \n",
       "13675      5.0         5.0        0             1930.0         Ottimo   \n",
       "13742      0.0         NaN        0                NaN         Ottimo   \n",
       "13890      3.0         5.0        0             1850.0          Buono   \n",
       "13936      2.0         NaN        1             1965.0         Ottimo   \n",
       "14012      NaN         NaN        0                NaN  Ristrutturare   \n",
       "14040      1.0         2.0        1             1800.0          Buono   \n",
       "14582      1.0         1.0        0                NaN         Ottimo   \n",
       "\n",
       "             heating energy_efficiency    city neighborhood adress latitude  \\\n",
       "782    Centralizzato               NaN  Milano          NaN    NaN      NaN   \n",
       "9270        Autonomo               NaN  Milano          NaN    NaN      NaN   \n",
       "11846       Autonomo                 G  Milano          NaN    NaN      NaN   \n",
       "12209       Autonomo                 F  Milano          NaN    NaN      NaN   \n",
       "12471       Autonomo                 G  Milano          NaN    NaN      NaN   \n",
       "12562  Centralizzato                 E  Milano          NaN    NaN      NaN   \n",
       "12697  Centralizzato                 A  Milano          NaN    NaN      NaN   \n",
       "12910       Autonomo                 F  Milano          NaN    NaN      NaN   \n",
       "13336  Centralizzato                 G  Milano          NaN    NaN      NaN   \n",
       "13675       Autonomo                 G  Milano          NaN    NaN      NaN   \n",
       "13742  Centralizzato                 E  Milano          NaN    NaN      NaN   \n",
       "13890  Centralizzato                 G  Milano          NaN    NaN      NaN   \n",
       "13936  Centralizzato                 G  Milano          NaN    NaN      NaN   \n",
       "14012  Centralizzato                 G  Milano          NaN    NaN      NaN   \n",
       "14040       Autonomo                 G  Milano          NaN    NaN      NaN   \n",
       "14582       Autonomo                 G  Milano          NaN    NaN      NaN   \n",
       "\n",
       "      longitude  \n",
       "782         NaN  \n",
       "9270        NaN  \n",
       "11846       NaN  \n",
       "12209       NaN  \n",
       "12471       NaN  \n",
       "12562       NaN  \n",
       "12697       NaN  \n",
       "12910       NaN  \n",
       "13336       NaN  \n",
       "13675       NaN  \n",
       "13742       NaN  \n",
       "13890       NaN  \n",
       "13936       NaN  \n",
       "14012       NaN  \n",
       "14040       NaN  \n",
       "14582       NaN  "
      ]
     },
     "execution_count": 417,
     "metadata": {},
     "output_type": "execute_result"
    }
   ],
   "source": [
    "df_clean[df_clean['latitude'].isnull()]"
   ]
  },
  {
   "cell_type": "markdown",
   "metadata": {},
   "source": [
    "As you can see, where latitude and longitude is missed, adress and neighborhood information is also missed so we can't obtain the latitude and longitude value in any manner so we have to drop this rows"
   ]
  },
  {
   "cell_type": "code",
   "execution_count": 418,
   "metadata": {},
   "outputs": [
    {
     "data": {
      "text/plain": [
       "(12555, 17)"
      ]
     },
     "execution_count": 418,
     "metadata": {},
     "output_type": "execute_result"
    }
   ],
   "source": [
    "df_clean.shape"
   ]
  },
  {
   "cell_type": "code",
   "execution_count": 419,
   "metadata": {},
   "outputs": [],
   "source": [
    "df_clean.drop(df_clean[df_clean['latitude'].isnull()].index, inplace=True)"
   ]
  },
  {
   "cell_type": "code",
   "execution_count": 420,
   "metadata": {},
   "outputs": [
    {
     "data": {
      "text/plain": [
       "(12539, 17)"
      ]
     },
     "execution_count": 420,
     "metadata": {},
     "output_type": "execute_result"
    }
   ],
   "source": [
    "df_clean.shape"
   ]
  },
  {
   "cell_type": "markdown",
   "metadata": {},
   "source": [
    "# Drop duplicate rows"
   ]
  },
  {
   "cell_type": "code",
   "execution_count": 421,
   "metadata": {},
   "outputs": [],
   "source": [
    "df_clean.drop_duplicates(inplace=True)"
   ]
  },
  {
   "cell_type": "code",
   "execution_count": 422,
   "metadata": {},
   "outputs": [
    {
     "data": {
      "text/plain": [
       "(12210, 17)"
      ]
     },
     "execution_count": 422,
     "metadata": {},
     "output_type": "execute_result"
    }
   ],
   "source": [
    "df_clean.shape"
   ]
  },
  {
   "cell_type": "code",
   "execution_count": 423,
   "metadata": {},
   "outputs": [
    {
     "data": {
      "text/plain": [
       "price_€                   0\n",
       "building_fees_month    2436\n",
       "n_rooms                 598\n",
       "surface_sqm              30\n",
       "n_bathrooms             229\n",
       "floor_2                 402\n",
       "tot_floors              590\n",
       "parking                   0\n",
       "year_construction      1696\n",
       "status                    0\n",
       "heating                 429\n",
       "energy_efficiency      1494\n",
       "city                      0\n",
       "neighborhood            201\n",
       "adress                  983\n",
       "latitude                  0\n",
       "longitude                 0\n",
       "dtype: int64"
      ]
     },
     "execution_count": 423,
     "metadata": {},
     "output_type": "execute_result"
    }
   ],
   "source": [
    "df_clean.isnull().sum()"
   ]
  },
  {
   "cell_type": "markdown",
   "metadata": {},
   "source": [
    "We have cleaned the dataframe and is ready to proceed with other analysis. We sve it in a new csv file"
   ]
  },
  {
   "cell_type": "code",
   "execution_count": 424,
   "metadata": {},
   "outputs": [],
   "source": [
    "df_clean.to_csv('apartments_clean_df.csv')"
   ]
  },
  {
   "cell_type": "code",
   "execution_count": null,
   "metadata": {},
   "outputs": [],
   "source": []
  }
 ],
 "metadata": {
  "kernelspec": {
   "display_name": "Python 3",
   "language": "python",
   "name": "python3"
  },
  "language_info": {
   "codemirror_mode": {
    "name": "ipython",
    "version": 3
   },
   "file_extension": ".py",
   "mimetype": "text/x-python",
   "name": "python",
   "nbconvert_exporter": "python",
   "pygments_lexer": "ipython3",
   "version": "3.7.6"
  }
 },
 "nbformat": 4,
 "nbformat_minor": 4
}
